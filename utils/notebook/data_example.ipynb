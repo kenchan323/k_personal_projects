{
 "cells": [
  {
   "cell_type": "markdown",
   "source": [
    "## Example notebook to demonstrate how to use the various implementation of the DataSource interface\n",
    "including: \n",
    "1) YahooFinanceDB\n",
    "2) YahooFinanceAPI"
   ],
   "metadata": {
    "collapsed": false
   },
   "id": "4a187ff92e1c6830"
  },
  {
   "cell_type": "code",
   "execution_count": 1,
   "outputs": [],
   "source": [
    "import pandas as pd\n",
    "import utils.data.source"
   ],
   "metadata": {
    "collapsed": false,
    "ExecuteTime": {
     "end_time": "2025-04-20T19:51:55.510580400Z",
     "start_time": "2025-04-20T19:51:54.192950500Z"
    }
   },
   "id": "3f354a3b78c6d5d2"
  },
  {
   "cell_type": "markdown",
   "source": [
    "### Hitting YahooFinance API"
   ],
   "metadata": {
    "collapsed": false
   },
   "id": "44af00a4d494ff0f"
  },
  {
   "cell_type": "code",
   "execution_count": 2,
   "outputs": [
    {
     "data": {
      "text/plain": "                   ^SPX    0001.HK       ^VIX       ^MOVE  ^990100-USD-STRD\nDATE                                                                       \n2025-02-27  5861.569824  39.549999  21.129999   96.269997       3767.399902\n2025-02-28  5954.500000  38.849998  19.629999  104.459999       3805.300049\n2025-03-03  5849.720215  39.150002  22.780001  105.650002       3770.300049\n2025-03-04  5778.149902  38.650002  23.510000  108.870003       3724.699951\n2025-03-05  5842.629883  47.099998  21.930000  104.320000       3777.600098\n2025-03-06  5738.520020  51.549999  24.870001  108.949997       3730.899902\n2025-03-07  5770.200195  49.500000  23.370001  104.410004       3740.399902\n2025-03-10  5614.560059  49.599998  27.860001  112.500000       3651.500000\n2025-03-11  5572.069824  49.950001  26.920000  114.599998       3623.199951\n2025-03-12  5599.299805  49.349998  24.230000  104.110001       3643.000000",
      "text/html": "<div>\n<style scoped>\n    .dataframe tbody tr th:only-of-type {\n        vertical-align: middle;\n    }\n\n    .dataframe tbody tr th {\n        vertical-align: top;\n    }\n\n    .dataframe thead th {\n        text-align: right;\n    }\n</style>\n<table border=\"1\" class=\"dataframe\">\n  <thead>\n    <tr style=\"text-align: right;\">\n      <th></th>\n      <th>^SPX</th>\n      <th>0001.HK</th>\n      <th>^VIX</th>\n      <th>^MOVE</th>\n      <th>^990100-USD-STRD</th>\n    </tr>\n    <tr>\n      <th>DATE</th>\n      <th></th>\n      <th></th>\n      <th></th>\n      <th></th>\n      <th></th>\n    </tr>\n  </thead>\n  <tbody>\n    <tr>\n      <th>2025-02-27</th>\n      <td>5861.569824</td>\n      <td>39.549999</td>\n      <td>21.129999</td>\n      <td>96.269997</td>\n      <td>3767.399902</td>\n    </tr>\n    <tr>\n      <th>2025-02-28</th>\n      <td>5954.500000</td>\n      <td>38.849998</td>\n      <td>19.629999</td>\n      <td>104.459999</td>\n      <td>3805.300049</td>\n    </tr>\n    <tr>\n      <th>2025-03-03</th>\n      <td>5849.720215</td>\n      <td>39.150002</td>\n      <td>22.780001</td>\n      <td>105.650002</td>\n      <td>3770.300049</td>\n    </tr>\n    <tr>\n      <th>2025-03-04</th>\n      <td>5778.149902</td>\n      <td>38.650002</td>\n      <td>23.510000</td>\n      <td>108.870003</td>\n      <td>3724.699951</td>\n    </tr>\n    <tr>\n      <th>2025-03-05</th>\n      <td>5842.629883</td>\n      <td>47.099998</td>\n      <td>21.930000</td>\n      <td>104.320000</td>\n      <td>3777.600098</td>\n    </tr>\n    <tr>\n      <th>2025-03-06</th>\n      <td>5738.520020</td>\n      <td>51.549999</td>\n      <td>24.870001</td>\n      <td>108.949997</td>\n      <td>3730.899902</td>\n    </tr>\n    <tr>\n      <th>2025-03-07</th>\n      <td>5770.200195</td>\n      <td>49.500000</td>\n      <td>23.370001</td>\n      <td>104.410004</td>\n      <td>3740.399902</td>\n    </tr>\n    <tr>\n      <th>2025-03-10</th>\n      <td>5614.560059</td>\n      <td>49.599998</td>\n      <td>27.860001</td>\n      <td>112.500000</td>\n      <td>3651.500000</td>\n    </tr>\n    <tr>\n      <th>2025-03-11</th>\n      <td>5572.069824</td>\n      <td>49.950001</td>\n      <td>26.920000</td>\n      <td>114.599998</td>\n      <td>3623.199951</td>\n    </tr>\n    <tr>\n      <th>2025-03-12</th>\n      <td>5599.299805</td>\n      <td>49.349998</td>\n      <td>24.230000</td>\n      <td>104.110001</td>\n      <td>3643.000000</td>\n    </tr>\n  </tbody>\n</table>\n</div>"
     },
     "execution_count": 2,
     "metadata": {},
     "output_type": "execute_result"
    }
   ],
   "source": [
    "yf_api = utils.data.source.YahooFinanceAPI(enable_cache=True)\n",
    "df = yf_api.load_timeseries(tuple(['^SPX', '0001.HK', '^VIX', '^MOVE', '^990100-USD-STRD']),\n",
    "                       # fld='Close', \n",
    "                        fld='Close',\n",
    "                        start=pd.Timestamp(2024,12,31),\n",
    "                        end=pd.Timestamp(2025, 3, 12))\n",
    "df.tail(10)"
   ],
   "metadata": {
    "collapsed": false,
    "ExecuteTime": {
     "end_time": "2025-04-20T19:51:56.280185100Z",
     "start_time": "2025-04-20T19:51:55.514976200Z"
    }
   },
   "id": "a862c9b4f1b6ef8"
  },
  {
   "cell_type": "code",
   "execution_count": 3,
   "outputs": [
    {
     "data": {
      "text/plain": "TICKER       ADA-USD                                                      \\\nFIELD           Open      High       Low     Close      Volume Dividends   \nDATE                                                                       \n2025-02-24  0.770040  0.775589  0.680667  0.682202   960897545       0.0   \n2025-02-25  0.682212  0.693038  0.633811  0.682582  1317817123       0.0   \n2025-02-26  0.682586  0.693577  0.634982  0.645038   869010894       0.0   \n2025-02-27  0.645053  0.678109  0.628422  0.645585   683537664       0.0   \n2025-02-28  0.645581  0.645610  0.582188  0.633051  1102255137       0.0   \n\nTICKER                   \nFIELD      Stock Splits  \nDATE                     \n2025-02-24          0.0  \n2025-02-25          0.0  \n2025-02-26          0.0  \n2025-02-27          0.0  \n2025-02-28          0.0  ",
      "text/html": "<div>\n<style scoped>\n    .dataframe tbody tr th:only-of-type {\n        vertical-align: middle;\n    }\n\n    .dataframe tbody tr th {\n        vertical-align: top;\n    }\n\n    .dataframe thead tr th {\n        text-align: left;\n    }\n\n    .dataframe thead tr:last-of-type th {\n        text-align: right;\n    }\n</style>\n<table border=\"1\" class=\"dataframe\">\n  <thead>\n    <tr>\n      <th>TICKER</th>\n      <th colspan=\"7\" halign=\"left\">ADA-USD</th>\n    </tr>\n    <tr>\n      <th>FIELD</th>\n      <th>Open</th>\n      <th>High</th>\n      <th>Low</th>\n      <th>Close</th>\n      <th>Volume</th>\n      <th>Dividends</th>\n      <th>Stock Splits</th>\n    </tr>\n    <tr>\n      <th>DATE</th>\n      <th></th>\n      <th></th>\n      <th></th>\n      <th></th>\n      <th></th>\n      <th></th>\n      <th></th>\n    </tr>\n  </thead>\n  <tbody>\n    <tr>\n      <th>2025-02-24</th>\n      <td>0.770040</td>\n      <td>0.775589</td>\n      <td>0.680667</td>\n      <td>0.682202</td>\n      <td>960897545</td>\n      <td>0.0</td>\n      <td>0.0</td>\n    </tr>\n    <tr>\n      <th>2025-02-25</th>\n      <td>0.682212</td>\n      <td>0.693038</td>\n      <td>0.633811</td>\n      <td>0.682582</td>\n      <td>1317817123</td>\n      <td>0.0</td>\n      <td>0.0</td>\n    </tr>\n    <tr>\n      <th>2025-02-26</th>\n      <td>0.682586</td>\n      <td>0.693577</td>\n      <td>0.634982</td>\n      <td>0.645038</td>\n      <td>869010894</td>\n      <td>0.0</td>\n      <td>0.0</td>\n    </tr>\n    <tr>\n      <th>2025-02-27</th>\n      <td>0.645053</td>\n      <td>0.678109</td>\n      <td>0.628422</td>\n      <td>0.645585</td>\n      <td>683537664</td>\n      <td>0.0</td>\n      <td>0.0</td>\n    </tr>\n    <tr>\n      <th>2025-02-28</th>\n      <td>0.645581</td>\n      <td>0.645610</td>\n      <td>0.582188</td>\n      <td>0.633051</td>\n      <td>1102255137</td>\n      <td>0.0</td>\n      <td>0.0</td>\n    </tr>\n  </tbody>\n</table>\n</div>"
     },
     "execution_count": 3,
     "metadata": {},
     "output_type": "execute_result"
    }
   ],
   "source": [
    "df = yf_api.load_timeseries(tuple(['ADA-USD']),\n",
    "                        fld=None,\n",
    "                        start=pd.Timestamp(2024,12,31),\n",
    "                        end=pd.Timestamp(2025, 2, 28))\n",
    "df.tail(5)"
   ],
   "metadata": {
    "collapsed": false,
    "ExecuteTime": {
     "end_time": "2025-04-20T19:51:56.452244300Z",
     "start_time": "2025-04-20T19:51:56.282137200Z"
    }
   },
   "id": "398d90636b3eb41e"
  },
  {
   "cell_type": "code",
   "execution_count": 4,
   "outputs": [
    {
     "data": {
      "text/plain": "                  NVDA        AAPL        MSFT\nDATE                                          \n2024-12-31  134.277649  250.144974  420.656525\n2025-01-02  138.297272  243.582199  417.742371\n2025-01-03  144.456711  243.092728  422.502838\n2025-01-06  149.416245  244.730927  426.993835\n2025-01-07  140.127106  241.944000  421.524780",
      "text/html": "<div>\n<style scoped>\n    .dataframe tbody tr th:only-of-type {\n        vertical-align: middle;\n    }\n\n    .dataframe tbody tr th {\n        vertical-align: top;\n    }\n\n    .dataframe thead th {\n        text-align: right;\n    }\n</style>\n<table border=\"1\" class=\"dataframe\">\n  <thead>\n    <tr style=\"text-align: right;\">\n      <th></th>\n      <th>NVDA</th>\n      <th>AAPL</th>\n      <th>MSFT</th>\n    </tr>\n    <tr>\n      <th>DATE</th>\n      <th></th>\n      <th></th>\n      <th></th>\n    </tr>\n  </thead>\n  <tbody>\n    <tr>\n      <th>2024-12-31</th>\n      <td>134.277649</td>\n      <td>250.144974</td>\n      <td>420.656525</td>\n    </tr>\n    <tr>\n      <th>2025-01-02</th>\n      <td>138.297272</td>\n      <td>243.582199</td>\n      <td>417.742371</td>\n    </tr>\n    <tr>\n      <th>2025-01-03</th>\n      <td>144.456711</td>\n      <td>243.092728</td>\n      <td>422.502838</td>\n    </tr>\n    <tr>\n      <th>2025-01-06</th>\n      <td>149.416245</td>\n      <td>244.730927</td>\n      <td>426.993835</td>\n    </tr>\n    <tr>\n      <th>2025-01-07</th>\n      <td>140.127106</td>\n      <td>241.944000</td>\n      <td>421.524780</td>\n    </tr>\n  </tbody>\n</table>\n</div>"
     },
     "execution_count": 4,
     "metadata": {},
     "output_type": "execute_result"
    }
   ],
   "source": [
    "df = yf_api.load_timeseries(tuple(['NVDA', 'AAPL', 'MSFT']),\n",
    "                        fld='Close', \n",
    "                        start=pd.Timestamp(2024,12,31),\n",
    "                        end=pd.Timestamp(2025, 1, 10))\n",
    "df.head()"
   ],
   "metadata": {
    "collapsed": false,
    "ExecuteTime": {
     "end_time": "2025-04-20T19:51:56.666035200Z",
     "start_time": "2025-04-20T19:51:56.359876700Z"
    }
   },
   "id": "86831b2d8495c6bf"
  },
  {
   "cell_type": "code",
   "execution_count": 5,
   "outputs": [
    {
     "data": {
      "text/plain": "                                            NVDA                AAPL  \\\naddress1               2788 San Tomas Expressway  One Apple Park Way   \ncity                                 Santa Clara           Cupertino   \nstate                                         CA                  CA   \nzip                                        95051               95014   \ncountry                            United States       United States   \n...                                          ...                 ...   \npostMarketChange                       -0.209496            0.270004   \nregularMarketChange                    -3.064995            2.664993   \nregularMarketDayRange            100.05 - 104.47   194.42 - 198.8335   \ndisplayName                               NVIDIA               Apple   \ntrailingPegRatio                          1.0345              1.8281   \n\n                                    MSFT  \naddress1               One Microsoft Way  \ncity                             Redmond  \nstate                                 WA  \nzip                           98052-6399  \ncountry                    United States  \n...                                  ...  \npostMarketChange                0.380005  \nregularMarketChange            -3.829987  \nregularMarketDayRange  366.89 - 374.3215  \ndisplayName                    Microsoft  \ntrailingPegRatio                  1.6816  \n\n[182 rows x 3 columns]",
      "text/html": "<div>\n<style scoped>\n    .dataframe tbody tr th:only-of-type {\n        vertical-align: middle;\n    }\n\n    .dataframe tbody tr th {\n        vertical-align: top;\n    }\n\n    .dataframe thead th {\n        text-align: right;\n    }\n</style>\n<table border=\"1\" class=\"dataframe\">\n  <thead>\n    <tr style=\"text-align: right;\">\n      <th></th>\n      <th>NVDA</th>\n      <th>AAPL</th>\n      <th>MSFT</th>\n    </tr>\n  </thead>\n  <tbody>\n    <tr>\n      <th>address1</th>\n      <td>2788 San Tomas Expressway</td>\n      <td>One Apple Park Way</td>\n      <td>One Microsoft Way</td>\n    </tr>\n    <tr>\n      <th>city</th>\n      <td>Santa Clara</td>\n      <td>Cupertino</td>\n      <td>Redmond</td>\n    </tr>\n    <tr>\n      <th>state</th>\n      <td>CA</td>\n      <td>CA</td>\n      <td>WA</td>\n    </tr>\n    <tr>\n      <th>zip</th>\n      <td>95051</td>\n      <td>95014</td>\n      <td>98052-6399</td>\n    </tr>\n    <tr>\n      <th>country</th>\n      <td>United States</td>\n      <td>United States</td>\n      <td>United States</td>\n    </tr>\n    <tr>\n      <th>...</th>\n      <td>...</td>\n      <td>...</td>\n      <td>...</td>\n    </tr>\n    <tr>\n      <th>postMarketChange</th>\n      <td>-0.209496</td>\n      <td>0.270004</td>\n      <td>0.380005</td>\n    </tr>\n    <tr>\n      <th>regularMarketChange</th>\n      <td>-3.064995</td>\n      <td>2.664993</td>\n      <td>-3.829987</td>\n    </tr>\n    <tr>\n      <th>regularMarketDayRange</th>\n      <td>100.05 - 104.47</td>\n      <td>194.42 - 198.8335</td>\n      <td>366.89 - 374.3215</td>\n    </tr>\n    <tr>\n      <th>displayName</th>\n      <td>NVIDIA</td>\n      <td>Apple</td>\n      <td>Microsoft</td>\n    </tr>\n    <tr>\n      <th>trailingPegRatio</th>\n      <td>1.0345</td>\n      <td>1.8281</td>\n      <td>1.6816</td>\n    </tr>\n  </tbody>\n</table>\n<p>182 rows × 3 columns</p>\n</div>"
     },
     "execution_count": 5,
     "metadata": {},
     "output_type": "execute_result"
    }
   ],
   "source": [
    "yf_api.load_info(tuple(['NVDA', 'AAPL', 'MSFT']))"
   ],
   "metadata": {
    "collapsed": false,
    "ExecuteTime": {
     "end_time": "2025-04-20T19:51:57.558538200Z",
     "start_time": "2025-04-20T19:51:56.622174800Z"
    }
   },
   "id": "76ca779eb7e76444"
  },
  {
   "cell_type": "markdown",
   "source": [
    "### Hitting internally onboarded YahooFinance data"
   ],
   "metadata": {
    "collapsed": false
   },
   "id": "8120c9e4048a096"
  },
  {
   "cell_type": "code",
   "execution_count": 9,
   "outputs": [
    {
     "data": {
      "text/plain": "TICKER      ^990100-USD-STRD\nDATE                        \n2025-02-24       3828.199951\n2025-02-25       3814.399902\n2025-02-26       3821.000000\n2025-02-27       3767.399902\n2025-02-28       3805.300049",
      "text/html": "<div>\n<style scoped>\n    .dataframe tbody tr th:only-of-type {\n        vertical-align: middle;\n    }\n\n    .dataframe tbody tr th {\n        vertical-align: top;\n    }\n\n    .dataframe thead th {\n        text-align: right;\n    }\n</style>\n<table border=\"1\" class=\"dataframe\">\n  <thead>\n    <tr style=\"text-align: right;\">\n      <th>TICKER</th>\n      <th>^990100-USD-STRD</th>\n    </tr>\n    <tr>\n      <th>DATE</th>\n      <th></th>\n    </tr>\n  </thead>\n  <tbody>\n    <tr>\n      <th>2025-02-24</th>\n      <td>3828.199951</td>\n    </tr>\n    <tr>\n      <th>2025-02-25</th>\n      <td>3814.399902</td>\n    </tr>\n    <tr>\n      <th>2025-02-26</th>\n      <td>3821.000000</td>\n    </tr>\n    <tr>\n      <th>2025-02-27</th>\n      <td>3767.399902</td>\n    </tr>\n    <tr>\n      <th>2025-02-28</th>\n      <td>3805.300049</td>\n    </tr>\n  </tbody>\n</table>\n</div>"
     },
     "execution_count": 9,
     "metadata": {},
     "output_type": "execute_result"
    }
   ],
   "source": [
    "yf_db = utils.data.source.YahooFinanceDB(enable_cache=False)\n",
    "\n",
    "df = yf_db.load_timeseries(tuple(['^VIX', '^FTSE', '^MOVE', '^990100-USD-STRD']),\n",
    "                           fld='Close',\n",
    "                           start=pd.Timestamp(2024,12,31),\n",
    "                           end=pd.Timestamp(2025, 4, 20))\n",
    "df.tail(5)"
   ],
   "metadata": {
    "collapsed": false,
    "ExecuteTime": {
     "end_time": "2025-04-20T19:52:17.871228700Z",
     "start_time": "2025-04-20T19:52:17.735209300Z"
    }
   },
   "id": "44dbaf5d1df92f72"
  },
  {
   "cell_type": "code",
   "execution_count": 7,
   "outputs": [
    {
     "data": {
      "text/plain": "TICKER\n^990100-USD-STRD               MSCI WORLD\n^FTSE                            FTSE 100\n^MOVE               ICE BofAML MOVE Index\n^VIX                CBOE Volatility Index\nName: longName, dtype: object"
     },
     "execution_count": 7,
     "metadata": {},
     "output_type": "execute_result"
    }
   ],
   "source": [
    "df = yf_db.load_info(tuple(['^VIX',  '^FTSE', '^MOVE', '^990100-USD-STRD']))\n",
    "df.loc['longName']"
   ],
   "metadata": {
    "collapsed": false,
    "ExecuteTime": {
     "end_time": "2025-04-20T19:51:57.744890400Z",
     "start_time": "2025-04-20T19:51:57.664353900Z"
    }
   },
   "id": "e5cabade66443d80"
  },
  {
   "cell_type": "code",
   "execution_count": 8,
   "outputs": [
    {
     "data": {
      "text/plain": "TICKER            ^990100-USD-STRD     ^FTSE                  ^MOVE  \\\nFIELD                                                                 \nregion                          US        US                     US   \nshortName               MSCI WORLD  FTSE 100  ICE BofAML MOVE Index   \nsymbol            ^990100-USD-STRD     ^FTSE                  ^MOVE   \ntypeDisp                     Index     Index                  Index   \nunderlyingSymbol               NaN       NaN                    NaN   \n\nTICKER                             ^VIX  \nFIELD                                    \nregion                               US  \nshortName         CBOE Volatility Index  \nsymbol                             ^VIX  \ntypeDisp                          Index  \nunderlyingSymbol                    NaN  ",
      "text/html": "<div>\n<style scoped>\n    .dataframe tbody tr th:only-of-type {\n        vertical-align: middle;\n    }\n\n    .dataframe tbody tr th {\n        vertical-align: top;\n    }\n\n    .dataframe thead th {\n        text-align: right;\n    }\n</style>\n<table border=\"1\" class=\"dataframe\">\n  <thead>\n    <tr style=\"text-align: right;\">\n      <th>TICKER</th>\n      <th>^990100-USD-STRD</th>\n      <th>^FTSE</th>\n      <th>^MOVE</th>\n      <th>^VIX</th>\n    </tr>\n    <tr>\n      <th>FIELD</th>\n      <th></th>\n      <th></th>\n      <th></th>\n      <th></th>\n    </tr>\n  </thead>\n  <tbody>\n    <tr>\n      <th>region</th>\n      <td>US</td>\n      <td>US</td>\n      <td>US</td>\n      <td>US</td>\n    </tr>\n    <tr>\n      <th>shortName</th>\n      <td>MSCI WORLD</td>\n      <td>FTSE 100</td>\n      <td>ICE BofAML MOVE Index</td>\n      <td>CBOE Volatility Index</td>\n    </tr>\n    <tr>\n      <th>symbol</th>\n      <td>^990100-USD-STRD</td>\n      <td>^FTSE</td>\n      <td>^MOVE</td>\n      <td>^VIX</td>\n    </tr>\n    <tr>\n      <th>typeDisp</th>\n      <td>Index</td>\n      <td>Index</td>\n      <td>Index</td>\n      <td>Index</td>\n    </tr>\n    <tr>\n      <th>underlyingSymbol</th>\n      <td>NaN</td>\n      <td>NaN</td>\n      <td>NaN</td>\n      <td>NaN</td>\n    </tr>\n  </tbody>\n</table>\n</div>"
     },
     "execution_count": 8,
     "metadata": {},
     "output_type": "execute_result"
    }
   ],
   "source": [
    "df.tail(5)"
   ],
   "metadata": {
    "collapsed": false,
    "ExecuteTime": {
     "end_time": "2025-04-20T19:51:57.806318500Z",
     "start_time": "2025-04-20T19:51:57.734462500Z"
    }
   },
   "id": "e2e3356b39bee605"
  }
 ],
 "metadata": {
  "kernelspec": {
   "display_name": "Python 3",
   "language": "python",
   "name": "python3"
  },
  "language_info": {
   "codemirror_mode": {
    "name": "ipython",
    "version": 2
   },
   "file_extension": ".py",
   "mimetype": "text/x-python",
   "name": "python",
   "nbconvert_exporter": "python",
   "pygments_lexer": "ipython2",
   "version": "2.7.6"
  }
 },
 "nbformat": 4,
 "nbformat_minor": 5
}

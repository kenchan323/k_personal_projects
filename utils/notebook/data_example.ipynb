{
 "cells": [
  {
   "cell_type": "markdown",
   "source": [
    "## Example notebook to demonstrate how to use the various implementation of the DataSource interface\n",
    "including: \n",
    "1) YahooFinanceDB\n",
    "2) YahooFinanceAPI"
   ],
   "metadata": {
    "collapsed": false
   },
   "id": "4a187ff92e1c6830"
  },
  {
   "cell_type": "code",
   "execution_count": 1,
   "outputs": [],
   "source": [
    "import pandas as pd\n",
    "import utils.data.source"
   ],
   "metadata": {
    "collapsed": false,
    "ExecuteTime": {
     "end_time": "2025-04-20T18:47:14.252863800Z",
     "start_time": "2025-04-20T18:47:13.288205800Z"
    }
   },
   "id": "3f354a3b78c6d5d2"
  },
  {
   "cell_type": "markdown",
   "source": [
    "### Hitting YahooFinance API"
   ],
   "metadata": {
    "collapsed": false
   },
   "id": "44af00a4d494ff0f"
  },
  {
   "cell_type": "code",
   "execution_count": 11,
   "outputs": [
    {
     "data": {
      "text/plain": "                   ^SPX    0001.HK       ^VIX       ^MOVE  ^990100-USD-STRD\nDATE                                                                       \n2025-02-27  5861.569824  39.549999  21.129999   96.269997       3767.399902\n2025-02-28  5954.500000  38.849998  19.629999  104.459999       3805.300049\n2025-03-03  5849.720215  39.150002  22.780001  105.650002       3770.300049\n2025-03-04  5778.149902  38.650002  23.510000  108.870003       3724.699951\n2025-03-05  5842.629883  47.099998  21.930000  104.320000       3777.600098\n2025-03-06  5738.520020  51.549999  24.870001  108.949997       3730.899902\n2025-03-07  5770.200195  49.500000  23.370001  104.410004       3740.399902\n2025-03-10  5614.560059  49.599998  27.860001  112.500000       3651.500000\n2025-03-11  5572.069824  49.950001  26.920000  114.599998       3623.199951\n2025-03-12  5599.299805  49.349998  24.230000  104.110001       3643.000000",
      "text/html": "<div>\n<style scoped>\n    .dataframe tbody tr th:only-of-type {\n        vertical-align: middle;\n    }\n\n    .dataframe tbody tr th {\n        vertical-align: top;\n    }\n\n    .dataframe thead th {\n        text-align: right;\n    }\n</style>\n<table border=\"1\" class=\"dataframe\">\n  <thead>\n    <tr style=\"text-align: right;\">\n      <th></th>\n      <th>^SPX</th>\n      <th>0001.HK</th>\n      <th>^VIX</th>\n      <th>^MOVE</th>\n      <th>^990100-USD-STRD</th>\n    </tr>\n    <tr>\n      <th>DATE</th>\n      <th></th>\n      <th></th>\n      <th></th>\n      <th></th>\n      <th></th>\n    </tr>\n  </thead>\n  <tbody>\n    <tr>\n      <th>2025-02-27</th>\n      <td>5861.569824</td>\n      <td>39.549999</td>\n      <td>21.129999</td>\n      <td>96.269997</td>\n      <td>3767.399902</td>\n    </tr>\n    <tr>\n      <th>2025-02-28</th>\n      <td>5954.500000</td>\n      <td>38.849998</td>\n      <td>19.629999</td>\n      <td>104.459999</td>\n      <td>3805.300049</td>\n    </tr>\n    <tr>\n      <th>2025-03-03</th>\n      <td>5849.720215</td>\n      <td>39.150002</td>\n      <td>22.780001</td>\n      <td>105.650002</td>\n      <td>3770.300049</td>\n    </tr>\n    <tr>\n      <th>2025-03-04</th>\n      <td>5778.149902</td>\n      <td>38.650002</td>\n      <td>23.510000</td>\n      <td>108.870003</td>\n      <td>3724.699951</td>\n    </tr>\n    <tr>\n      <th>2025-03-05</th>\n      <td>5842.629883</td>\n      <td>47.099998</td>\n      <td>21.930000</td>\n      <td>104.320000</td>\n      <td>3777.600098</td>\n    </tr>\n    <tr>\n      <th>2025-03-06</th>\n      <td>5738.520020</td>\n      <td>51.549999</td>\n      <td>24.870001</td>\n      <td>108.949997</td>\n      <td>3730.899902</td>\n    </tr>\n    <tr>\n      <th>2025-03-07</th>\n      <td>5770.200195</td>\n      <td>49.500000</td>\n      <td>23.370001</td>\n      <td>104.410004</td>\n      <td>3740.399902</td>\n    </tr>\n    <tr>\n      <th>2025-03-10</th>\n      <td>5614.560059</td>\n      <td>49.599998</td>\n      <td>27.860001</td>\n      <td>112.500000</td>\n      <td>3651.500000</td>\n    </tr>\n    <tr>\n      <th>2025-03-11</th>\n      <td>5572.069824</td>\n      <td>49.950001</td>\n      <td>26.920000</td>\n      <td>114.599998</td>\n      <td>3623.199951</td>\n    </tr>\n    <tr>\n      <th>2025-03-12</th>\n      <td>5599.299805</td>\n      <td>49.349998</td>\n      <td>24.230000</td>\n      <td>104.110001</td>\n      <td>3643.000000</td>\n    </tr>\n  </tbody>\n</table>\n</div>"
     },
     "execution_count": 11,
     "metadata": {},
     "output_type": "execute_result"
    }
   ],
   "source": [
    "yf_api = utils.data.source.YahooFinanceAPI(enable_cache=True)\n",
    "df = yf_api.load_timeseries(tuple(['^SPX', '0001.HK', '^VIX', '^MOVE', '^990100-USD-STRD']),\n",
    "                       # fld='Close', \n",
    "                        fld='Close',\n",
    "                        start=pd.Timestamp(2024,12,31),\n",
    "                        end=pd.Timestamp(2025, 3, 12))\n",
    "df.tail(10)"
   ],
   "metadata": {
    "collapsed": false,
    "ExecuteTime": {
     "end_time": "2025-04-20T18:50:48.217648400Z",
     "start_time": "2025-04-20T18:50:48.147715Z"
    }
   },
   "id": "a862c9b4f1b6ef8"
  },
  {
   "cell_type": "code",
   "execution_count": 7,
   "outputs": [
    {
     "data": {
      "text/plain": "TICKER       ADA-USD                                                      \\\nFIELD           Open      High       Low     Close      Volume Dividends   \nDATE                                                                       \n2025-02-24  0.770040  0.775589  0.680667  0.682202   960897545       0.0   \n2025-02-25  0.682212  0.693038  0.633811  0.682582  1317817123       0.0   \n2025-02-26  0.682586  0.693577  0.634982  0.645038   869010894       0.0   \n2025-02-27  0.645053  0.678109  0.628422  0.645585   683537664       0.0   \n2025-02-28  0.645581  0.645610  0.582188  0.633051  1102255137       0.0   \n\nTICKER                   \nFIELD      Stock Splits  \nDATE                     \n2025-02-24          0.0  \n2025-02-25          0.0  \n2025-02-26          0.0  \n2025-02-27          0.0  \n2025-02-28          0.0  ",
      "text/html": "<div>\n<style scoped>\n    .dataframe tbody tr th:only-of-type {\n        vertical-align: middle;\n    }\n\n    .dataframe tbody tr th {\n        vertical-align: top;\n    }\n\n    .dataframe thead tr th {\n        text-align: left;\n    }\n\n    .dataframe thead tr:last-of-type th {\n        text-align: right;\n    }\n</style>\n<table border=\"1\" class=\"dataframe\">\n  <thead>\n    <tr>\n      <th>TICKER</th>\n      <th colspan=\"7\" halign=\"left\">ADA-USD</th>\n    </tr>\n    <tr>\n      <th>FIELD</th>\n      <th>Open</th>\n      <th>High</th>\n      <th>Low</th>\n      <th>Close</th>\n      <th>Volume</th>\n      <th>Dividends</th>\n      <th>Stock Splits</th>\n    </tr>\n    <tr>\n      <th>DATE</th>\n      <th></th>\n      <th></th>\n      <th></th>\n      <th></th>\n      <th></th>\n      <th></th>\n      <th></th>\n    </tr>\n  </thead>\n  <tbody>\n    <tr>\n      <th>2025-02-24</th>\n      <td>0.770040</td>\n      <td>0.775589</td>\n      <td>0.680667</td>\n      <td>0.682202</td>\n      <td>960897545</td>\n      <td>0.0</td>\n      <td>0.0</td>\n    </tr>\n    <tr>\n      <th>2025-02-25</th>\n      <td>0.682212</td>\n      <td>0.693038</td>\n      <td>0.633811</td>\n      <td>0.682582</td>\n      <td>1317817123</td>\n      <td>0.0</td>\n      <td>0.0</td>\n    </tr>\n    <tr>\n      <th>2025-02-26</th>\n      <td>0.682586</td>\n      <td>0.693577</td>\n      <td>0.634982</td>\n      <td>0.645038</td>\n      <td>869010894</td>\n      <td>0.0</td>\n      <td>0.0</td>\n    </tr>\n    <tr>\n      <th>2025-02-27</th>\n      <td>0.645053</td>\n      <td>0.678109</td>\n      <td>0.628422</td>\n      <td>0.645585</td>\n      <td>683537664</td>\n      <td>0.0</td>\n      <td>0.0</td>\n    </tr>\n    <tr>\n      <th>2025-02-28</th>\n      <td>0.645581</td>\n      <td>0.645610</td>\n      <td>0.582188</td>\n      <td>0.633051</td>\n      <td>1102255137</td>\n      <td>0.0</td>\n      <td>0.0</td>\n    </tr>\n  </tbody>\n</table>\n</div>"
     },
     "execution_count": 7,
     "metadata": {},
     "output_type": "execute_result"
    }
   ],
   "source": [
    "df = yf_api.load_timeseries(tuple(['ADA-USD']),\n",
    "                        fld=None,\n",
    "                        start=pd.Timestamp(2024,12,31),\n",
    "                        end=pd.Timestamp(2025, 2, 28))\n",
    "df.tail(5)"
   ],
   "metadata": {
    "collapsed": false,
    "ExecuteTime": {
     "end_time": "2025-04-20T18:48:22.629727700Z",
     "start_time": "2025-04-20T18:48:22.581262800Z"
    }
   },
   "id": "398d90636b3eb41e"
  },
  {
   "cell_type": "code",
   "execution_count": 6,
   "outputs": [
    {
     "data": {
      "text/plain": "                                 NVDA        AAPL        MSFT\nDate                                                         \n2024-12-31 00:00:00-05:00  134.289993  250.144974  420.656525\n2025-01-02 00:00:00-05:00  138.309998  243.582199  417.742371\n2025-01-03 00:00:00-05:00  144.470001  243.092728  422.502838\n2025-01-06 00:00:00-05:00  149.429993  244.730927  426.993835\n2025-01-07 00:00:00-05:00  140.139999  241.944000  421.524780",
      "text/html": "<div>\n<style scoped>\n    .dataframe tbody tr th:only-of-type {\n        vertical-align: middle;\n    }\n\n    .dataframe tbody tr th {\n        vertical-align: top;\n    }\n\n    .dataframe thead th {\n        text-align: right;\n    }\n</style>\n<table border=\"1\" class=\"dataframe\">\n  <thead>\n    <tr style=\"text-align: right;\">\n      <th></th>\n      <th>NVDA</th>\n      <th>AAPL</th>\n      <th>MSFT</th>\n    </tr>\n    <tr>\n      <th>Date</th>\n      <th></th>\n      <th></th>\n      <th></th>\n    </tr>\n  </thead>\n  <tbody>\n    <tr>\n      <th>2024-12-31 00:00:00-05:00</th>\n      <td>134.289993</td>\n      <td>250.144974</td>\n      <td>420.656525</td>\n    </tr>\n    <tr>\n      <th>2025-01-02 00:00:00-05:00</th>\n      <td>138.309998</td>\n      <td>243.582199</td>\n      <td>417.742371</td>\n    </tr>\n    <tr>\n      <th>2025-01-03 00:00:00-05:00</th>\n      <td>144.470001</td>\n      <td>243.092728</td>\n      <td>422.502838</td>\n    </tr>\n    <tr>\n      <th>2025-01-06 00:00:00-05:00</th>\n      <td>149.429993</td>\n      <td>244.730927</td>\n      <td>426.993835</td>\n    </tr>\n    <tr>\n      <th>2025-01-07 00:00:00-05:00</th>\n      <td>140.139999</td>\n      <td>241.944000</td>\n      <td>421.524780</td>\n    </tr>\n  </tbody>\n</table>\n</div>"
     },
     "execution_count": 6,
     "metadata": {},
     "output_type": "execute_result"
    }
   ],
   "source": [
    "df = yf_api.load_timeseries(tuple(['NVDA', 'AAPL', 'MSFT']),\n",
    "                        fld='Close', \n",
    "                        start=pd.Timestamp(2024,12,31),\n",
    "                        end=pd.Timestamp(2025, 1, 10))\n",
    "df.head()"
   ],
   "metadata": {
    "collapsed": false,
    "ExecuteTime": {
     "end_time": "2025-03-09T21:07:16.052629100Z",
     "start_time": "2025-03-09T21:07:15.575368100Z"
    }
   },
   "id": "86831b2d8495c6bf"
  },
  {
   "cell_type": "code",
   "execution_count": 13,
   "outputs": [
    {
     "data": {
      "text/plain": "                                                 NVDA                AAPL  \\\naddress1                    2788 San Tomas Expressway  One Apple Park Way   \ncity                                      Santa Clara           Cupertino   \nstate                                              CA                  CA   \nzip                                             95051               95014   \ncountry                                 United States       United States   \n...                                               ...                 ...   \nesgPopulated                                    False               False   \nregularMarketChangePercent                   -2.93329            1.371799   \nregularMarketPrice                            101.425             196.935   \ndisplayName                                    NVIDIA               Apple   \ntrailingPegRatio                               1.0345              1.8281   \n\n                                         MSFT  \naddress1                    One Microsoft Way  \ncity                                  Redmond  \nstate                                      WA  \nzip                                98052-6399  \ncountry                         United States  \n...                                       ...  \nesgPopulated                            False  \nregularMarketChangePercent          -1.030647  \nregularMarketPrice                     367.78  \ndisplayName                         Microsoft  \ntrailingPegRatio                       1.6816  \n\n[182 rows x 3 columns]",
      "text/html": "<div>\n<style scoped>\n    .dataframe tbody tr th:only-of-type {\n        vertical-align: middle;\n    }\n\n    .dataframe tbody tr th {\n        vertical-align: top;\n    }\n\n    .dataframe thead th {\n        text-align: right;\n    }\n</style>\n<table border=\"1\" class=\"dataframe\">\n  <thead>\n    <tr style=\"text-align: right;\">\n      <th></th>\n      <th>NVDA</th>\n      <th>AAPL</th>\n      <th>MSFT</th>\n    </tr>\n  </thead>\n  <tbody>\n    <tr>\n      <th>address1</th>\n      <td>2788 San Tomas Expressway</td>\n      <td>One Apple Park Way</td>\n      <td>One Microsoft Way</td>\n    </tr>\n    <tr>\n      <th>city</th>\n      <td>Santa Clara</td>\n      <td>Cupertino</td>\n      <td>Redmond</td>\n    </tr>\n    <tr>\n      <th>state</th>\n      <td>CA</td>\n      <td>CA</td>\n      <td>WA</td>\n    </tr>\n    <tr>\n      <th>zip</th>\n      <td>95051</td>\n      <td>95014</td>\n      <td>98052-6399</td>\n    </tr>\n    <tr>\n      <th>country</th>\n      <td>United States</td>\n      <td>United States</td>\n      <td>United States</td>\n    </tr>\n    <tr>\n      <th>...</th>\n      <td>...</td>\n      <td>...</td>\n      <td>...</td>\n    </tr>\n    <tr>\n      <th>esgPopulated</th>\n      <td>False</td>\n      <td>False</td>\n      <td>False</td>\n    </tr>\n    <tr>\n      <th>regularMarketChangePercent</th>\n      <td>-2.93329</td>\n      <td>1.371799</td>\n      <td>-1.030647</td>\n    </tr>\n    <tr>\n      <th>regularMarketPrice</th>\n      <td>101.425</td>\n      <td>196.935</td>\n      <td>367.78</td>\n    </tr>\n    <tr>\n      <th>displayName</th>\n      <td>NVIDIA</td>\n      <td>Apple</td>\n      <td>Microsoft</td>\n    </tr>\n    <tr>\n      <th>trailingPegRatio</th>\n      <td>1.0345</td>\n      <td>1.8281</td>\n      <td>1.6816</td>\n    </tr>\n  </tbody>\n</table>\n<p>182 rows × 3 columns</p>\n</div>"
     },
     "execution_count": 13,
     "metadata": {},
     "output_type": "execute_result"
    }
   ],
   "source": [
    "yf_api.load_info(tuple(['NVDA', 'AAPL', 'MSFT']))"
   ],
   "metadata": {
    "collapsed": false,
    "ExecuteTime": {
     "end_time": "2025-04-20T18:50:54.919125100Z",
     "start_time": "2025-04-20T18:50:53.966246300Z"
    }
   },
   "id": "76ca779eb7e76444"
  },
  {
   "cell_type": "markdown",
   "source": [
    "### Hitting internally onboarded YahooFinance data"
   ],
   "metadata": {
    "collapsed": false
   },
   "id": "8120c9e4048a096"
  },
  {
   "cell_type": "code",
   "execution_count": 18,
   "outputs": [
    {
     "data": {
      "text/plain": "                 ^VIX       ^MOVE  ^990100-USD-STRD\nDATE                                               \n2025-04-14  30.889999  132.460007       3514.199951\n2025-04-15  30.120001  122.559998       3522.800049\n2025-04-16  32.639999  119.400002       3468.500000\n2025-04-17  29.650000  114.639999       3474.100098\n2025-04-20        NaN         NaN       3476.060059",
      "text/html": "<div>\n<style scoped>\n    .dataframe tbody tr th:only-of-type {\n        vertical-align: middle;\n    }\n\n    .dataframe tbody tr th {\n        vertical-align: top;\n    }\n\n    .dataframe thead th {\n        text-align: right;\n    }\n</style>\n<table border=\"1\" class=\"dataframe\">\n  <thead>\n    <tr style=\"text-align: right;\">\n      <th></th>\n      <th>^VIX</th>\n      <th>^MOVE</th>\n      <th>^990100-USD-STRD</th>\n    </tr>\n    <tr>\n      <th>DATE</th>\n      <th></th>\n      <th></th>\n      <th></th>\n    </tr>\n  </thead>\n  <tbody>\n    <tr>\n      <th>2025-04-14</th>\n      <td>30.889999</td>\n      <td>132.460007</td>\n      <td>3514.199951</td>\n    </tr>\n    <tr>\n      <th>2025-04-15</th>\n      <td>30.120001</td>\n      <td>122.559998</td>\n      <td>3522.800049</td>\n    </tr>\n    <tr>\n      <th>2025-04-16</th>\n      <td>32.639999</td>\n      <td>119.400002</td>\n      <td>3468.500000</td>\n    </tr>\n    <tr>\n      <th>2025-04-17</th>\n      <td>29.650000</td>\n      <td>114.639999</td>\n      <td>3474.100098</td>\n    </tr>\n    <tr>\n      <th>2025-04-20</th>\n      <td>NaN</td>\n      <td>NaN</td>\n      <td>3476.060059</td>\n    </tr>\n  </tbody>\n</table>\n</div>"
     },
     "execution_count": 18,
     "metadata": {},
     "output_type": "execute_result"
    }
   ],
   "source": [
    "yf_db = utils.data.source.YahooFinanceAPI(enable_cache=True)\n",
    "\n",
    "df = yf_db.load_timeseries(tuple(['^VIX', '^MOVE', '^990100-USD-STRD']),\n",
    "                           fld='Close',\n",
    "                           start=pd.Timestamp(2024,12,31),\n",
    "                           end=pd.Timestamp(2025, 4, 20))\n",
    "df.tail(5)"
   ],
   "metadata": {
    "collapsed": false,
    "ExecuteTime": {
     "end_time": "2025-04-20T19:00:28.580041100Z",
     "start_time": "2025-04-20T19:00:28.324358500Z"
    }
   },
   "id": "44dbaf5d1df92f72"
  },
  {
   "cell_type": "code",
   "execution_count": 24,
   "outputs": [
    {
     "data": {
      "text/plain": "^VIX                CBOE Volatility Index\n^MOVE               ICE BofAML MOVE Index\n^990100-USD-STRD               MSCI WORLD\nName: longName, dtype: object"
     },
     "execution_count": 24,
     "metadata": {},
     "output_type": "execute_result"
    }
   ],
   "source": [
    "df = yf_db.load_info(tuple(['^VIX', '^MOVE', '^990100-USD-STRD']))\n",
    "df.loc['longName']"
   ],
   "metadata": {
    "collapsed": false,
    "ExecuteTime": {
     "end_time": "2025-04-20T19:08:00.463098800Z",
     "start_time": "2025-04-20T19:08:00.431978400Z"
    }
   },
   "id": "e5cabade66443d80"
  },
  {
   "cell_type": "code",
   "execution_count": 23,
   "outputs": [
    {
     "data": {
      "text/plain": "                        ^VIX          ^MOVE     ^990100-USD-STRD\nsourceInterval            15             15                   15\nexchangeDataDelayedBy      0              0                    0\ncryptoTradeable        False          False                False\ntrailingPegRatio        None           None                 None\nquoteSourceName          NaN  Delayed Quote  Free Realtime Quote",
      "text/html": "<div>\n<style scoped>\n    .dataframe tbody tr th:only-of-type {\n        vertical-align: middle;\n    }\n\n    .dataframe tbody tr th {\n        vertical-align: top;\n    }\n\n    .dataframe thead th {\n        text-align: right;\n    }\n</style>\n<table border=\"1\" class=\"dataframe\">\n  <thead>\n    <tr style=\"text-align: right;\">\n      <th></th>\n      <th>^VIX</th>\n      <th>^MOVE</th>\n      <th>^990100-USD-STRD</th>\n    </tr>\n  </thead>\n  <tbody>\n    <tr>\n      <th>sourceInterval</th>\n      <td>15</td>\n      <td>15</td>\n      <td>15</td>\n    </tr>\n    <tr>\n      <th>exchangeDataDelayedBy</th>\n      <td>0</td>\n      <td>0</td>\n      <td>0</td>\n    </tr>\n    <tr>\n      <th>cryptoTradeable</th>\n      <td>False</td>\n      <td>False</td>\n      <td>False</td>\n    </tr>\n    <tr>\n      <th>trailingPegRatio</th>\n      <td>None</td>\n      <td>None</td>\n      <td>None</td>\n    </tr>\n    <tr>\n      <th>quoteSourceName</th>\n      <td>NaN</td>\n      <td>Delayed Quote</td>\n      <td>Free Realtime Quote</td>\n    </tr>\n  </tbody>\n</table>\n</div>"
     },
     "execution_count": 23,
     "metadata": {},
     "output_type": "execute_result"
    }
   ],
   "source": [
    "df.tail(5)"
   ],
   "metadata": {
    "collapsed": false,
    "ExecuteTime": {
     "end_time": "2025-04-20T19:07:58.467886500Z",
     "start_time": "2025-04-20T19:07:58.430882Z"
    }
   },
   "id": "e2e3356b39bee605"
  }
 ],
 "metadata": {
  "kernelspec": {
   "display_name": "Python 3",
   "language": "python",
   "name": "python3"
  },
  "language_info": {
   "codemirror_mode": {
    "name": "ipython",
    "version": 2
   },
   "file_extension": ".py",
   "mimetype": "text/x-python",
   "name": "python",
   "nbconvert_exporter": "python",
   "pygments_lexer": "ipython2",
   "version": "2.7.6"
  }
 },
 "nbformat": 4,
 "nbformat_minor": 5
}

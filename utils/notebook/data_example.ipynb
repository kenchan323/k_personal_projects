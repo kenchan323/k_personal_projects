{
 "cells": [
  {
   "cell_type": "markdown",
   "source": [
    "## Example notebook to demonstrate how to use the various implementation of the DataSource interface"
   ],
   "metadata": {
    "collapsed": false
   },
   "id": "4a187ff92e1c6830"
  },
  {
   "cell_type": "code",
   "execution_count": null,
   "outputs": [],
   "source": [
    "import pandas as pd\n",
    "import utils"
   ],
   "metadata": {
    "collapsed": false
   },
   "id": "3f354a3b78c6d5d2"
  },
  {
   "cell_type": "code",
   "execution_count": 6,
   "outputs": [
    {
     "data": {
      "text/plain": "                                 NVDA        AAPL        MSFT\nDate                                                         \n2024-12-31 00:00:00-05:00  134.289993  250.144974  420.656525\n2025-01-02 00:00:00-05:00  138.309998  243.582199  417.742371\n2025-01-03 00:00:00-05:00  144.470001  243.092728  422.502838\n2025-01-06 00:00:00-05:00  149.429993  244.730927  426.993835\n2025-01-07 00:00:00-05:00  140.139999  241.944000  421.524780",
      "text/html": "<div>\n<style scoped>\n    .dataframe tbody tr th:only-of-type {\n        vertical-align: middle;\n    }\n\n    .dataframe tbody tr th {\n        vertical-align: top;\n    }\n\n    .dataframe thead th {\n        text-align: right;\n    }\n</style>\n<table border=\"1\" class=\"dataframe\">\n  <thead>\n    <tr style=\"text-align: right;\">\n      <th></th>\n      <th>NVDA</th>\n      <th>AAPL</th>\n      <th>MSFT</th>\n    </tr>\n    <tr>\n      <th>Date</th>\n      <th></th>\n      <th></th>\n      <th></th>\n    </tr>\n  </thead>\n  <tbody>\n    <tr>\n      <th>2024-12-31 00:00:00-05:00</th>\n      <td>134.289993</td>\n      <td>250.144974</td>\n      <td>420.656525</td>\n    </tr>\n    <tr>\n      <th>2025-01-02 00:00:00-05:00</th>\n      <td>138.309998</td>\n      <td>243.582199</td>\n      <td>417.742371</td>\n    </tr>\n    <tr>\n      <th>2025-01-03 00:00:00-05:00</th>\n      <td>144.470001</td>\n      <td>243.092728</td>\n      <td>422.502838</td>\n    </tr>\n    <tr>\n      <th>2025-01-06 00:00:00-05:00</th>\n      <td>149.429993</td>\n      <td>244.730927</td>\n      <td>426.993835</td>\n    </tr>\n    <tr>\n      <th>2025-01-07 00:00:00-05:00</th>\n      <td>140.139999</td>\n      <td>241.944000</td>\n      <td>421.524780</td>\n    </tr>\n  </tbody>\n</table>\n</div>"
     },
     "execution_count": 6,
     "metadata": {},
     "output_type": "execute_result"
    }
   ],
   "source": [
    "yf = utils.YahooFinance(enable_cache=True)\n",
    "df = yf.load_timeseries(tuple(['NVDA', 'AAPL', 'MSFT']),\n",
    "                        fld='Close', \n",
    "                        start=pd.Timestamp(2024,12,31),\n",
    "                        end=pd.Timestamp(2025, 1, 10))\n",
    "df.head()"
   ],
   "metadata": {
    "collapsed": false,
    "ExecuteTime": {
     "end_time": "2025-03-09T21:07:16.052629100Z",
     "start_time": "2025-03-09T21:07:15.575368100Z"
    }
   },
   "id": "86831b2d8495c6bf"
  },
  {
   "cell_type": "code",
   "execution_count": 19,
   "outputs": [
    {
     "data": {
      "text/plain": "                                                        2025-01-31  \\\nTax Effect Of Unusual Items                                    0.0   \nTax Rate For Calcs                                           0.133   \nNormalized EBITDA                                    86137000000.0   \nTotal Unusual Items                                            0.0   \nTotal Unusual Items Excluding Goodwill                         0.0   \nNet Income From Continuing Operation Net Minori...   72880000000.0   \nReconciled Depreciation                               1864000000.0   \nReconciled Cost Of Revenue                           32639000000.0   \nEBITDA                                               86137000000.0   \nEBIT                                                 84273000000.0   \nNet Interest Income                                   1539000000.0   \nInterest Expense                                       247000000.0   \nInterest Income                                       1786000000.0   \nNormalized Income                                    72880000000.0   \nNet Income From Continuing And Discontinued Ope...   72880000000.0   \nTotal Expenses                                       49044000000.0   \nTotal Operating Income As Reported                   81453000000.0   \nDiluted Average Shares                               24804000000.0   \nBasic Average Shares                                 24555000000.0   \nDiluted EPS                                                   2.94   \nBasic EPS                                                     2.97   \nDiluted NI Availto Com Stockholders                  72880000000.0   \nNet Income Common Stockholders                       72880000000.0   \nNet Income                                           72880000000.0   \nNet Income Including Noncontrolling Interests        72880000000.0   \nNet Income Continuous Operations                     72880000000.0   \nTax Provision                                        11146000000.0   \nPretax Income                                        84026000000.0   \nOther Income Expense                                  1034000000.0   \nOther Non Operating Income Expenses                   1034000000.0   \nSpecial Income Charges                                         0.0   \nRestructuring And Mergern Acquisition                          0.0   \nNet Non Operating Interest Income Expense             1539000000.0   \nInterest Expense Non Operating                         247000000.0   \nInterest Income Non Operating                         1786000000.0   \nOperating Income                                     81453000000.0   \nOperating Expense                                    16405000000.0   \nResearch And Development                             12914000000.0   \nSelling General And Administration                    3491000000.0   \nGross Profit                                         97858000000.0   \nCost Of Revenue                                      32639000000.0   \nTotal Revenue                                       130497000000.0   \nOperating Revenue                                   130497000000.0   \n\n                                                       2024-01-31  \\\nTax Effect Of Unusual Items                                   0.0   \nTax Rate For Calcs                                           0.12   \nNormalized EBITDA                                   35583000000.0   \nTotal Unusual Items                                           0.0   \nTotal Unusual Items Excluding Goodwill                        0.0   \nNet Income From Continuing Operation Net Minori...  29760000000.0   \nReconciled Depreciation                              1508000000.0   \nReconciled Cost Of Revenue                          16621000000.0   \nEBITDA                                              35583000000.0   \nEBIT                                                34075000000.0   \nNet Interest Income                                   609000000.0   \nInterest Expense                                      257000000.0   \nInterest Income                                       866000000.0   \nNormalized Income                                   29760000000.0   \nNet Income From Continuing And Discontinued Ope...  29760000000.0   \nTotal Expenses                                      27950000000.0   \nTotal Operating Income As Reported                  32972000000.0   \nDiluted Average Shares                              24940000000.0   \nBasic Average Shares                                24690000000.0   \nDiluted EPS                                                  1.19   \nBasic EPS                                                    1.21   \nDiluted NI Availto Com Stockholders                 29760000000.0   \nNet Income Common Stockholders                      29760000000.0   \nNet Income                                          29760000000.0   \nNet Income Including Noncontrolling Interests       29760000000.0   \nNet Income Continuous Operations                    29760000000.0   \nTax Provision                                        4058000000.0   \nPretax Income                                       33818000000.0   \nOther Income Expense                                  237000000.0   \nOther Non Operating Income Expenses                   237000000.0   \nSpecial Income Charges                                        0.0   \nRestructuring And Mergern Acquisition                         0.0   \nNet Non Operating Interest Income Expense             609000000.0   \nInterest Expense Non Operating                        257000000.0   \nInterest Income Non Operating                         866000000.0   \nOperating Income                                    32972000000.0   \nOperating Expense                                   11329000000.0   \nResearch And Development                             8675000000.0   \nSelling General And Administration                   2654000000.0   \nGross Profit                                        44301000000.0   \nCost Of Revenue                                     16621000000.0   \nTotal Revenue                                       60922000000.0   \nOperating Revenue                                   60922000000.0   \n\n                                                       2023-01-31  \\\nTax Effect Of Unusual Items                          -284130000.0   \nTax Rate For Calcs                                           0.21   \nNormalized EBITDA                                    7340000000.0   \nTotal Unusual Items                                 -1353000000.0   \nTotal Unusual Items Excluding Goodwill              -1353000000.0   \nNet Income From Continuing Operation Net Minori...   4368000000.0   \nReconciled Depreciation                              1544000000.0   \nReconciled Cost Of Revenue                          11618000000.0   \nEBITDA                                               5987000000.0   \nEBIT                                                 4443000000.0   \nNet Interest Income                                     5000000.0   \nInterest Expense                                      262000000.0   \nInterest Income                                       267000000.0   \nNormalized Income                                    5436870000.0   \nNet Income From Continuing And Discontinued Ope...   4368000000.0   \nTotal Expenses                                      21397000000.0   \nTotal Operating Income As Reported                   4224000000.0   \nDiluted Average Shares                              25070000000.0   \nBasic Average Shares                                24870000000.0   \nDiluted EPS                                                  0.17   \nBasic EPS                                                    0.18   \nDiluted NI Availto Com Stockholders                  4368000000.0   \nNet Income Common Stockholders                       4368000000.0   \nNet Income                                           4368000000.0   \nNet Income Including Noncontrolling Interests        4368000000.0   \nNet Income Continuous Operations                     4368000000.0   \nTax Provision                                        -187000000.0   \nPretax Income                                        4181000000.0   \nOther Income Expense                                -1401000000.0   \nOther Non Operating Income Expenses                   -48000000.0   \nSpecial Income Charges                              -1353000000.0   \nRestructuring And Mergern Acquisition                1353000000.0   \nNet Non Operating Interest Income Expense               5000000.0   \nInterest Expense Non Operating                        262000000.0   \nInterest Income Non Operating                         267000000.0   \nOperating Income                                     5577000000.0   \nOperating Expense                                    9779000000.0   \nResearch And Development                             7339000000.0   \nSelling General And Administration                   2440000000.0   \nGross Profit                                        15356000000.0   \nCost Of Revenue                                     11618000000.0   \nTotal Revenue                                       26974000000.0   \nOperating Revenue                                   26974000000.0   \n\n                                                       2022-01-31  \nTax Effect Of Unusual Items                                   0.0  \nTax Rate For Calcs                                          0.019  \nNormalized EBITDA                                   11351000000.0  \nTotal Unusual Items                                           0.0  \nTotal Unusual Items Excluding Goodwill                        0.0  \nNet Income From Continuing Operation Net Minori...   9752000000.0  \nReconciled Depreciation                              1174000000.0  \nReconciled Cost Of Revenue                           9439000000.0  \nEBITDA                                              11351000000.0  \nEBIT                                                10177000000.0  \nNet Interest Income                                  -207000000.0  \nInterest Expense                                      236000000.0  \nInterest Income                                        29000000.0  \nNormalized Income                                    9752000000.0  \nNet Income From Continuing And Discontinued Ope...   9752000000.0  \nTotal Expenses                                      16873000000.0  \nTotal Operating Income As Reported                  10041000000.0  \nDiluted Average Shares                              25350000000.0  \nBasic Average Shares                                24960000000.0  \nDiluted EPS                                                 0.385  \nBasic EPS                                                   0.391  \nDiluted NI Availto Com Stockholders                  9752000000.0  \nNet Income Common Stockholders                       9752000000.0  \nNet Income                                           9752000000.0  \nNet Income Including Noncontrolling Interests        9752000000.0  \nNet Income Continuous Operations                     9752000000.0  \nTax Provision                                         189000000.0  \nPretax Income                                        9941000000.0  \nOther Income Expense                                  107000000.0  \nOther Non Operating Income Expenses                   107000000.0  \nSpecial Income Charges                                        0.0  \nRestructuring And Mergern Acquisition                         0.0  \nNet Non Operating Interest Income Expense            -207000000.0  \nInterest Expense Non Operating                        236000000.0  \nInterest Income Non Operating                          29000000.0  \nOperating Income                                    10041000000.0  \nOperating Expense                                    7434000000.0  \nResearch And Development                             5268000000.0  \nSelling General And Administration                   2166000000.0  \nGross Profit                                        17475000000.0  \nCost Of Revenue                                      9439000000.0  \nTotal Revenue                                       26914000000.0  \nOperating Revenue                                   26914000000.0  ",
      "text/html": "<div>\n<style scoped>\n    .dataframe tbody tr th:only-of-type {\n        vertical-align: middle;\n    }\n\n    .dataframe tbody tr th {\n        vertical-align: top;\n    }\n\n    .dataframe thead th {\n        text-align: right;\n    }\n</style>\n<table border=\"1\" class=\"dataframe\">\n  <thead>\n    <tr style=\"text-align: right;\">\n      <th></th>\n      <th>2025-01-31</th>\n      <th>2024-01-31</th>\n      <th>2023-01-31</th>\n      <th>2022-01-31</th>\n    </tr>\n  </thead>\n  <tbody>\n    <tr>\n      <th>Tax Effect Of Unusual Items</th>\n      <td>0.0</td>\n      <td>0.0</td>\n      <td>-284130000.0</td>\n      <td>0.0</td>\n    </tr>\n    <tr>\n      <th>Tax Rate For Calcs</th>\n      <td>0.133</td>\n      <td>0.12</td>\n      <td>0.21</td>\n      <td>0.019</td>\n    </tr>\n    <tr>\n      <th>Normalized EBITDA</th>\n      <td>86137000000.0</td>\n      <td>35583000000.0</td>\n      <td>7340000000.0</td>\n      <td>11351000000.0</td>\n    </tr>\n    <tr>\n      <th>Total Unusual Items</th>\n      <td>0.0</td>\n      <td>0.0</td>\n      <td>-1353000000.0</td>\n      <td>0.0</td>\n    </tr>\n    <tr>\n      <th>Total Unusual Items Excluding Goodwill</th>\n      <td>0.0</td>\n      <td>0.0</td>\n      <td>-1353000000.0</td>\n      <td>0.0</td>\n    </tr>\n    <tr>\n      <th>Net Income From Continuing Operation Net Minority Interest</th>\n      <td>72880000000.0</td>\n      <td>29760000000.0</td>\n      <td>4368000000.0</td>\n      <td>9752000000.0</td>\n    </tr>\n    <tr>\n      <th>Reconciled Depreciation</th>\n      <td>1864000000.0</td>\n      <td>1508000000.0</td>\n      <td>1544000000.0</td>\n      <td>1174000000.0</td>\n    </tr>\n    <tr>\n      <th>Reconciled Cost Of Revenue</th>\n      <td>32639000000.0</td>\n      <td>16621000000.0</td>\n      <td>11618000000.0</td>\n      <td>9439000000.0</td>\n    </tr>\n    <tr>\n      <th>EBITDA</th>\n      <td>86137000000.0</td>\n      <td>35583000000.0</td>\n      <td>5987000000.0</td>\n      <td>11351000000.0</td>\n    </tr>\n    <tr>\n      <th>EBIT</th>\n      <td>84273000000.0</td>\n      <td>34075000000.0</td>\n      <td>4443000000.0</td>\n      <td>10177000000.0</td>\n    </tr>\n    <tr>\n      <th>Net Interest Income</th>\n      <td>1539000000.0</td>\n      <td>609000000.0</td>\n      <td>5000000.0</td>\n      <td>-207000000.0</td>\n    </tr>\n    <tr>\n      <th>Interest Expense</th>\n      <td>247000000.0</td>\n      <td>257000000.0</td>\n      <td>262000000.0</td>\n      <td>236000000.0</td>\n    </tr>\n    <tr>\n      <th>Interest Income</th>\n      <td>1786000000.0</td>\n      <td>866000000.0</td>\n      <td>267000000.0</td>\n      <td>29000000.0</td>\n    </tr>\n    <tr>\n      <th>Normalized Income</th>\n      <td>72880000000.0</td>\n      <td>29760000000.0</td>\n      <td>5436870000.0</td>\n      <td>9752000000.0</td>\n    </tr>\n    <tr>\n      <th>Net Income From Continuing And Discontinued Operation</th>\n      <td>72880000000.0</td>\n      <td>29760000000.0</td>\n      <td>4368000000.0</td>\n      <td>9752000000.0</td>\n    </tr>\n    <tr>\n      <th>Total Expenses</th>\n      <td>49044000000.0</td>\n      <td>27950000000.0</td>\n      <td>21397000000.0</td>\n      <td>16873000000.0</td>\n    </tr>\n    <tr>\n      <th>Total Operating Income As Reported</th>\n      <td>81453000000.0</td>\n      <td>32972000000.0</td>\n      <td>4224000000.0</td>\n      <td>10041000000.0</td>\n    </tr>\n    <tr>\n      <th>Diluted Average Shares</th>\n      <td>24804000000.0</td>\n      <td>24940000000.0</td>\n      <td>25070000000.0</td>\n      <td>25350000000.0</td>\n    </tr>\n    <tr>\n      <th>Basic Average Shares</th>\n      <td>24555000000.0</td>\n      <td>24690000000.0</td>\n      <td>24870000000.0</td>\n      <td>24960000000.0</td>\n    </tr>\n    <tr>\n      <th>Diluted EPS</th>\n      <td>2.94</td>\n      <td>1.19</td>\n      <td>0.17</td>\n      <td>0.385</td>\n    </tr>\n    <tr>\n      <th>Basic EPS</th>\n      <td>2.97</td>\n      <td>1.21</td>\n      <td>0.18</td>\n      <td>0.391</td>\n    </tr>\n    <tr>\n      <th>Diluted NI Availto Com Stockholders</th>\n      <td>72880000000.0</td>\n      <td>29760000000.0</td>\n      <td>4368000000.0</td>\n      <td>9752000000.0</td>\n    </tr>\n    <tr>\n      <th>Net Income Common Stockholders</th>\n      <td>72880000000.0</td>\n      <td>29760000000.0</td>\n      <td>4368000000.0</td>\n      <td>9752000000.0</td>\n    </tr>\n    <tr>\n      <th>Net Income</th>\n      <td>72880000000.0</td>\n      <td>29760000000.0</td>\n      <td>4368000000.0</td>\n      <td>9752000000.0</td>\n    </tr>\n    <tr>\n      <th>Net Income Including Noncontrolling Interests</th>\n      <td>72880000000.0</td>\n      <td>29760000000.0</td>\n      <td>4368000000.0</td>\n      <td>9752000000.0</td>\n    </tr>\n    <tr>\n      <th>Net Income Continuous Operations</th>\n      <td>72880000000.0</td>\n      <td>29760000000.0</td>\n      <td>4368000000.0</td>\n      <td>9752000000.0</td>\n    </tr>\n    <tr>\n      <th>Tax Provision</th>\n      <td>11146000000.0</td>\n      <td>4058000000.0</td>\n      <td>-187000000.0</td>\n      <td>189000000.0</td>\n    </tr>\n    <tr>\n      <th>Pretax Income</th>\n      <td>84026000000.0</td>\n      <td>33818000000.0</td>\n      <td>4181000000.0</td>\n      <td>9941000000.0</td>\n    </tr>\n    <tr>\n      <th>Other Income Expense</th>\n      <td>1034000000.0</td>\n      <td>237000000.0</td>\n      <td>-1401000000.0</td>\n      <td>107000000.0</td>\n    </tr>\n    <tr>\n      <th>Other Non Operating Income Expenses</th>\n      <td>1034000000.0</td>\n      <td>237000000.0</td>\n      <td>-48000000.0</td>\n      <td>107000000.0</td>\n    </tr>\n    <tr>\n      <th>Special Income Charges</th>\n      <td>0.0</td>\n      <td>0.0</td>\n      <td>-1353000000.0</td>\n      <td>0.0</td>\n    </tr>\n    <tr>\n      <th>Restructuring And Mergern Acquisition</th>\n      <td>0.0</td>\n      <td>0.0</td>\n      <td>1353000000.0</td>\n      <td>0.0</td>\n    </tr>\n    <tr>\n      <th>Net Non Operating Interest Income Expense</th>\n      <td>1539000000.0</td>\n      <td>609000000.0</td>\n      <td>5000000.0</td>\n      <td>-207000000.0</td>\n    </tr>\n    <tr>\n      <th>Interest Expense Non Operating</th>\n      <td>247000000.0</td>\n      <td>257000000.0</td>\n      <td>262000000.0</td>\n      <td>236000000.0</td>\n    </tr>\n    <tr>\n      <th>Interest Income Non Operating</th>\n      <td>1786000000.0</td>\n      <td>866000000.0</td>\n      <td>267000000.0</td>\n      <td>29000000.0</td>\n    </tr>\n    <tr>\n      <th>Operating Income</th>\n      <td>81453000000.0</td>\n      <td>32972000000.0</td>\n      <td>5577000000.0</td>\n      <td>10041000000.0</td>\n    </tr>\n    <tr>\n      <th>Operating Expense</th>\n      <td>16405000000.0</td>\n      <td>11329000000.0</td>\n      <td>9779000000.0</td>\n      <td>7434000000.0</td>\n    </tr>\n    <tr>\n      <th>Research And Development</th>\n      <td>12914000000.0</td>\n      <td>8675000000.0</td>\n      <td>7339000000.0</td>\n      <td>5268000000.0</td>\n    </tr>\n    <tr>\n      <th>Selling General And Administration</th>\n      <td>3491000000.0</td>\n      <td>2654000000.0</td>\n      <td>2440000000.0</td>\n      <td>2166000000.0</td>\n    </tr>\n    <tr>\n      <th>Gross Profit</th>\n      <td>97858000000.0</td>\n      <td>44301000000.0</td>\n      <td>15356000000.0</td>\n      <td>17475000000.0</td>\n    </tr>\n    <tr>\n      <th>Cost Of Revenue</th>\n      <td>32639000000.0</td>\n      <td>16621000000.0</td>\n      <td>11618000000.0</td>\n      <td>9439000000.0</td>\n    </tr>\n    <tr>\n      <th>Total Revenue</th>\n      <td>130497000000.0</td>\n      <td>60922000000.0</td>\n      <td>26974000000.0</td>\n      <td>26914000000.0</td>\n    </tr>\n    <tr>\n      <th>Operating Revenue</th>\n      <td>130497000000.0</td>\n      <td>60922000000.0</td>\n      <td>26974000000.0</td>\n      <td>26914000000.0</td>\n    </tr>\n  </tbody>\n</table>\n</div>"
     },
     "execution_count": 19,
     "metadata": {},
     "output_type": "execute_result"
    }
   ],
   "source": [
    "data = yf.load_meta('NVDA',\n",
    "                    fld='financials')\n",
    "data['NVDA']"
   ],
   "metadata": {
    "collapsed": false,
    "ExecuteTime": {
     "end_time": "2025-03-09T21:10:50.631659900Z",
     "start_time": "2025-03-09T21:10:50.603599300Z"
    }
   },
   "id": "e5cabade66443d80"
  },
  {
   "cell_type": "code",
   "execution_count": 20,
   "outputs": [
    {
     "data": {
      "text/plain": "Date\n2024-02-09 00:00:00-05:00    0.24\n2024-05-10 00:00:00-04:00    0.25\n2024-08-12 00:00:00-04:00    0.25\n2024-11-08 00:00:00-05:00    0.25\n2025-02-10 00:00:00-05:00    0.25\nName: Dividends, dtype: float64"
     },
     "execution_count": 20,
     "metadata": {},
     "output_type": "execute_result"
    }
   ],
   "source": [
    "data = yf.load_meta(tuple(['NVDA', 'AAPL', 'MSFT']),\n",
    "                    fld='dividends')\n",
    "data['AAPL'].tail()"
   ],
   "metadata": {
    "collapsed": false,
    "ExecuteTime": {
     "end_time": "2025-03-09T21:10:53.449456200Z",
     "start_time": "2025-03-09T21:10:53.433370Z"
    }
   },
   "id": "d07af8242dc5e2c3"
  },
  {
   "cell_type": "code",
   "execution_count": 21,
   "outputs": [],
   "source": [
    "data = yf.load_meta('MSFT',\n",
    "                    fld='history_metadata')\n",
    "#history_metadata"
   ],
   "metadata": {
    "collapsed": false,
    "ExecuteTime": {
     "end_time": "2025-03-09T21:11:01.245109Z",
     "start_time": "2025-03-09T21:11:01.159797200Z"
    }
   },
   "id": "e1427a3f7bfa0bb0"
  },
  {
   "cell_type": "code",
   "execution_count": 22,
   "outputs": [
    {
     "data": {
      "text/plain": "{'MSFT': {'currency': 'USD',\n  'symbol': 'MSFT',\n  'exchangeName': 'NMS',\n  'fullExchangeName': 'NasdaqGS',\n  'instrumentType': 'EQUITY',\n  'firstTradeDate': 511108200,\n  'regularMarketTime': 1741381200,\n  'hasPrePostMarketData': True,\n  'gmtoffset': -14400,\n  'timezone': 'EDT',\n  'exchangeTimezoneName': 'America/New_York',\n  'regularMarketPrice': 393.31,\n  'fiftyTwoWeekHigh': 468.35,\n  'fiftyTwoWeekLow': 381.0,\n  'regularMarketDayHigh': 394.8,\n  'regularMarketDayLow': 385.54,\n  'regularMarketVolume': 22034087,\n  'longName': 'Microsoft Corporation',\n  'shortName': 'Microsoft Corporation',\n  'chartPreviousClose': 396.99,\n  'previousClose': 396.89,\n  'scale': 3,\n  'priceHint': 2,\n  'currentTradingPeriod': {'pre': {'timezone': 'EST',\n    'start': 1741338000,\n    'end': 1741357800,\n    'gmtoffset': -18000},\n   'regular': {'timezone': 'EST',\n    'start': 1741357800,\n    'end': 1741381200,\n    'gmtoffset': -18000},\n   'post': {'timezone': 'EST',\n    'start': 1741381200,\n    'end': 1741395600,\n    'gmtoffset': -18000}},\n  'tradingPeriods':                                           pre_start                   pre_end  \\\n  Date                                                                            \n  2025-03-03 00:00:00-05:00 2025-03-03 04:00:00-05:00 2025-03-03 09:30:00-05:00   \n  2025-03-04 00:00:00-05:00 2025-03-04 04:00:00-05:00 2025-03-04 09:30:00-05:00   \n  2025-03-05 00:00:00-05:00 2025-03-05 04:00:00-05:00 2025-03-05 09:30:00-05:00   \n  2025-03-06 00:00:00-05:00 2025-03-06 04:00:00-05:00 2025-03-06 09:30:00-05:00   \n  2025-03-07 00:00:00-05:00 2025-03-07 04:00:00-05:00 2025-03-07 09:30:00-05:00   \n  \n                                                start                       end  \\\n  Date                                                                            \n  2025-03-03 00:00:00-05:00 2025-03-03 09:30:00-05:00 2025-03-03 16:00:00-05:00   \n  2025-03-04 00:00:00-05:00 2025-03-04 09:30:00-05:00 2025-03-04 16:00:00-05:00   \n  2025-03-05 00:00:00-05:00 2025-03-05 09:30:00-05:00 2025-03-05 16:00:00-05:00   \n  2025-03-06 00:00:00-05:00 2025-03-06 09:30:00-05:00 2025-03-06 16:00:00-05:00   \n  2025-03-07 00:00:00-05:00 2025-03-07 09:30:00-05:00 2025-03-07 16:00:00-05:00   \n  \n                                           post_start                  post_end  \n  Date                                                                           \n  2025-03-03 00:00:00-05:00 2025-03-03 16:00:00-05:00 2025-03-03 20:00:00-05:00  \n  2025-03-04 00:00:00-05:00 2025-03-04 16:00:00-05:00 2025-03-04 20:00:00-05:00  \n  2025-03-05 00:00:00-05:00 2025-03-05 16:00:00-05:00 2025-03-05 20:00:00-05:00  \n  2025-03-06 00:00:00-05:00 2025-03-06 16:00:00-05:00 2025-03-06 20:00:00-05:00  \n  2025-03-07 00:00:00-05:00 2025-03-07 16:00:00-05:00 2025-03-07 20:00:00-05:00  ,\n  'dataGranularity': '1h',\n  'range': '5d',\n  'validRanges': ['1d',\n   '5d',\n   '1mo',\n   '3mo',\n   '6mo',\n   '1y',\n   '2y',\n   '5y',\n   '10y',\n   'ytd',\n   'max']}}"
     },
     "execution_count": 22,
     "metadata": {},
     "output_type": "execute_result"
    }
   ],
   "source": [
    "data"
   ],
   "metadata": {
    "collapsed": false,
    "ExecuteTime": {
     "end_time": "2025-03-09T21:11:04.044339400Z",
     "start_time": "2025-03-09T21:11:04.018516100Z"
    }
   },
   "id": "dd220df71ae7830f"
  }
 ],
 "metadata": {
  "kernelspec": {
   "display_name": "Python 3",
   "language": "python",
   "name": "python3"
  },
  "language_info": {
   "codemirror_mode": {
    "name": "ipython",
    "version": 2
   },
   "file_extension": ".py",
   "mimetype": "text/x-python",
   "name": "python",
   "nbconvert_exporter": "python",
   "pygments_lexer": "ipython2",
   "version": "2.7.6"
  }
 },
 "nbformat": 4,
 "nbformat_minor": 5
}

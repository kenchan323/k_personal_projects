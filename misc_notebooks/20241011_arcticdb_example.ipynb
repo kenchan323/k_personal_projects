{
 "cells": [
  {
   "cell_type": "markdown",
   "source": [
    "A short sample notebook to compare the performance of pandas (1.3.4 was used) vs ArcticDB (4.5.0) in reading from /writing to local disk/query operations \n",
    "\n",
    "Sources:\n",
    "https://docs.arcticdb.io/4.5.0/\n",
    "https://medium.com/arcticdb/why-you-should-use-arcticdb-instead-of-csv-to-save-your-pandas-dataframes-ac4d06e55724"
   ],
   "metadata": {
    "collapsed": false
   },
   "id": "7c2bec49337320b"
  },
  {
   "cell_type": "code",
   "execution_count": 1,
   "outputs": [],
   "source": [
    "import os\n",
    "import datetime as dt\n",
    "import time\n",
    "\n",
    "import numpy as np\n",
    "import pandas as pd\n",
    "\n",
    "import arcticdb as adb"
   ],
   "metadata": {
    "collapsed": false,
    "ExecuteTime": {
     "end_time": "2024-10-12T14:15:11.209122800Z",
     "start_time": "2024-10-12T14:15:10.180176800Z"
    }
   },
   "id": "14d38fa69406f07c"
  },
  {
   "cell_type": "code",
   "execution_count": 2,
   "outputs": [],
   "source": [
    "# this will set up the storage using the local file system\n",
    "uri = \"lmdb://C:dev/tmp/arcticdb_intro\"\n",
    "ac = adb.Arctic(uri)\n",
    "ITERATIONS_N = 3  # how many times to perform each operation in sampling execution time"
   ],
   "metadata": {
    "collapsed": false,
    "ExecuteTime": {
     "end_time": "2024-10-12T14:15:11.216292500Z",
     "start_time": "2024-10-12T14:15:11.198365900Z"
    }
   },
   "id": "a0efeb99ca293e4b"
  },
  {
   "cell_type": "code",
   "execution_count": 3,
   "outputs": [],
   "source": [
    "if ac.has_library('intro'):\n",
    "    ac.delete_library('intro')"
   ],
   "metadata": {
    "collapsed": false,
    "ExecuteTime": {
     "end_time": "2024-10-12T14:15:11.226791500Z",
     "start_time": "2024-10-12T14:15:11.212316600Z"
    }
   },
   "id": "97d2af30153849d6"
  },
  {
   "cell_type": "code",
   "execution_count": 4,
   "outputs": [
    {
     "data": {
      "text/plain": "['intro']"
     },
     "execution_count": 4,
     "metadata": {},
     "output_type": "execute_result"
    }
   ],
   "source": [
    "ac.create_library('intro')  # static schema\n",
    "ac.list_libraries()"
   ],
   "metadata": {
    "collapsed": false,
    "ExecuteTime": {
     "end_time": "2024-10-12T14:15:11.257297Z",
     "start_time": "2024-10-12T14:15:11.226791500Z"
    }
   },
   "id": "7a6c687577cca8a2"
  },
  {
   "cell_type": "code",
   "execution_count": 5,
   "outputs": [],
   "source": [
    "library = ac['intro']"
   ],
   "metadata": {
    "collapsed": false,
    "ExecuteTime": {
     "end_time": "2024-10-12T14:15:11.272681500Z",
     "start_time": "2024-10-12T14:15:11.259037Z"
    }
   },
   "id": "6201071425fe7a4"
  },
  {
   "cell_type": "code",
   "execution_count": 6,
   "outputs": [],
   "source": [
    "n_row = int(5e6)\n",
    "cols = ['COL_%d' % i for i in range(50)]\n",
    "df_big = pd.DataFrame(np.random.randint(0, 50, size=(n_row, 50)), columns=cols)\n",
    "df_big.index = pd.date_range(dt.datetime(1970, 1, 1, 5), periods=n_row, freq=\"S\")"
   ],
   "metadata": {
    "collapsed": false,
    "ExecuteTime": {
     "end_time": "2024-10-12T14:15:13.088363300Z",
     "start_time": "2024-10-12T14:15:11.274677100Z"
    }
   },
   "id": "9f4023135ca73e01"
  },
  {
   "cell_type": "code",
   "execution_count": 7,
   "outputs": [
    {
     "data": {
      "text/plain": "                     COL_0  COL_1  COL_2  COL_3  COL_4  COL_5  COL_6  COL_7  \\\n1970-02-28 01:53:16     13     22     24     43     36     30     46      6   \n1970-02-28 01:53:17     30     43     15      7     17     21     41     41   \n1970-02-28 01:53:18     47      9     47     36     32     47      5     32   \n1970-02-28 01:53:19     42     10     38     38     27     24     18     10   \n\n                     COL_8  COL_9  ...  COL_40  COL_41  COL_42  COL_43  \\\n1970-02-28 01:53:16     24     39  ...      48       9       4      40   \n1970-02-28 01:53:17      3     28  ...      37       9      25      29   \n1970-02-28 01:53:18     12     23  ...      28      39      18      18   \n1970-02-28 01:53:19     26     16  ...      21       8      23      38   \n\n                     COL_44  COL_45  COL_46  COL_47  COL_48  COL_49  \n1970-02-28 01:53:16      41       5      16      26      23      28  \n1970-02-28 01:53:17      16       9      31      25      44      39  \n1970-02-28 01:53:18      29      19       0       6      49      39  \n1970-02-28 01:53:19       4       3       5      43      43       0  \n\n[4 rows x 50 columns]",
      "text/html": "<div>\n<style scoped>\n    .dataframe tbody tr th:only-of-type {\n        vertical-align: middle;\n    }\n\n    .dataframe tbody tr th {\n        vertical-align: top;\n    }\n\n    .dataframe thead th {\n        text-align: right;\n    }\n</style>\n<table border=\"1\" class=\"dataframe\">\n  <thead>\n    <tr style=\"text-align: right;\">\n      <th></th>\n      <th>COL_0</th>\n      <th>COL_1</th>\n      <th>COL_2</th>\n      <th>COL_3</th>\n      <th>COL_4</th>\n      <th>COL_5</th>\n      <th>COL_6</th>\n      <th>COL_7</th>\n      <th>COL_8</th>\n      <th>COL_9</th>\n      <th>...</th>\n      <th>COL_40</th>\n      <th>COL_41</th>\n      <th>COL_42</th>\n      <th>COL_43</th>\n      <th>COL_44</th>\n      <th>COL_45</th>\n      <th>COL_46</th>\n      <th>COL_47</th>\n      <th>COL_48</th>\n      <th>COL_49</th>\n    </tr>\n  </thead>\n  <tbody>\n    <tr>\n      <th>1970-02-28 01:53:16</th>\n      <td>13</td>\n      <td>22</td>\n      <td>24</td>\n      <td>43</td>\n      <td>36</td>\n      <td>30</td>\n      <td>46</td>\n      <td>6</td>\n      <td>24</td>\n      <td>39</td>\n      <td>...</td>\n      <td>48</td>\n      <td>9</td>\n      <td>4</td>\n      <td>40</td>\n      <td>41</td>\n      <td>5</td>\n      <td>16</td>\n      <td>26</td>\n      <td>23</td>\n      <td>28</td>\n    </tr>\n    <tr>\n      <th>1970-02-28 01:53:17</th>\n      <td>30</td>\n      <td>43</td>\n      <td>15</td>\n      <td>7</td>\n      <td>17</td>\n      <td>21</td>\n      <td>41</td>\n      <td>41</td>\n      <td>3</td>\n      <td>28</td>\n      <td>...</td>\n      <td>37</td>\n      <td>9</td>\n      <td>25</td>\n      <td>29</td>\n      <td>16</td>\n      <td>9</td>\n      <td>31</td>\n      <td>25</td>\n      <td>44</td>\n      <td>39</td>\n    </tr>\n    <tr>\n      <th>1970-02-28 01:53:18</th>\n      <td>47</td>\n      <td>9</td>\n      <td>47</td>\n      <td>36</td>\n      <td>32</td>\n      <td>47</td>\n      <td>5</td>\n      <td>32</td>\n      <td>12</td>\n      <td>23</td>\n      <td>...</td>\n      <td>28</td>\n      <td>39</td>\n      <td>18</td>\n      <td>18</td>\n      <td>29</td>\n      <td>19</td>\n      <td>0</td>\n      <td>6</td>\n      <td>49</td>\n      <td>39</td>\n    </tr>\n    <tr>\n      <th>1970-02-28 01:53:19</th>\n      <td>42</td>\n      <td>10</td>\n      <td>38</td>\n      <td>38</td>\n      <td>27</td>\n      <td>24</td>\n      <td>18</td>\n      <td>10</td>\n      <td>26</td>\n      <td>16</td>\n      <td>...</td>\n      <td>21</td>\n      <td>8</td>\n      <td>23</td>\n      <td>38</td>\n      <td>4</td>\n      <td>3</td>\n      <td>5</td>\n      <td>43</td>\n      <td>43</td>\n      <td>0</td>\n    </tr>\n  </tbody>\n</table>\n<p>4 rows × 50 columns</p>\n</div>"
     },
     "execution_count": 7,
     "metadata": {},
     "output_type": "execute_result"
    }
   ],
   "source": [
    "df_big.tail(4)"
   ],
   "metadata": {
    "collapsed": false,
    "ExecuteTime": {
     "end_time": "2024-10-12T14:15:13.136622300Z",
     "start_time": "2024-10-12T14:15:13.093512Z"
    }
   },
   "id": "9acd0e14eaae3bad"
  },
  {
   "cell_type": "code",
   "execution_count": 8,
   "outputs": [
    {
     "data": {
      "text/plain": "(5000000, 50)"
     },
     "execution_count": 8,
     "metadata": {},
     "output_type": "execute_result"
    }
   ],
   "source": [
    "df_big.shape"
   ],
   "metadata": {
    "collapsed": false,
    "ExecuteTime": {
     "end_time": "2024-10-12T14:15:13.178085Z",
     "start_time": "2024-10-12T14:15:13.121277500Z"
    }
   },
   "id": "c1e1206cb6eef60e"
  },
  {
   "cell_type": "markdown",
   "source": [
    "### Testing output time to C: drive"
   ],
   "metadata": {
    "collapsed": false
   },
   "id": "b2c9f164db61b57c"
  },
  {
   "cell_type": "code",
   "execution_count": 9,
   "outputs": [
    {
     "name": "stdout",
     "output_type": "stream",
     "text": [
      "pd.to_csv( )  time  33.142617 seconds (over 3 iterations)\n"
     ]
    }
   ],
   "source": [
    "samples = []\n",
    "for _itr in range(ITERATIONS_N):\n",
    "    s = time.time()\n",
    "    df_big.to_csv(\"df_big.csv\")\n",
    "    e = time.time()\n",
    "    samples.append((e-s))\n",
    "print(f'pd.to_csv( )  time  {\"{:.6f}\".format(np.mean(samples))} seconds (avg over {ITERATIONS_N} iterations)')"
   ],
   "metadata": {
    "collapsed": false,
    "ExecuteTime": {
     "end_time": "2024-10-12T14:16:52.575086200Z",
     "start_time": "2024-10-12T14:15:13.137945Z"
    }
   },
   "id": "2d07054774794d3b"
  },
  {
   "cell_type": "code",
   "execution_count": 10,
   "outputs": [
    {
     "name": "stdout",
     "output_type": "stream",
     "text": [
      "Arctic DB write time 1.102033 seconds (over 3 iterations)\n"
     ]
    }
   ],
   "source": [
    "if library.has_symbol('df_big'):\n",
    "    library.delete('df_big')\n",
    "    \n",
    "samples = []\n",
    "for _itr in range(ITERATIONS_N):\n",
    "    s = time.time()\n",
    "    library.write('df_big', df_big)\n",
    "    e = time.time()\n",
    "    samples.append((e-s))\n",
    "print(f'Arctic DB write time {\"{:.6f}\".format(np.mean(samples))} seconds (avg over {ITERATIONS_N} iterations)')"
   ],
   "metadata": {
    "collapsed": false,
    "ExecuteTime": {
     "end_time": "2024-10-12T14:16:55.894292500Z",
     "start_time": "2024-10-12T14:16:52.585715200Z"
    }
   },
   "id": "50fb9d2a4e1023a1"
  },
  {
   "cell_type": "markdown",
   "source": [
    "### Pandas .loc querying time"
   ],
   "metadata": {
    "collapsed": false
   },
   "id": "b4ddecd7cd32ccdc"
  },
  {
   "cell_type": "code",
   "execution_count": 11,
   "outputs": [
    {
     "name": "stdout",
     "output_type": "stream",
     "text": [
      "pandas.loc filtering 0.095933 seconds (over 3 iterations)\n"
     ]
    }
   ],
   "source": [
    "samples = []\n",
    "for _itr in range(ITERATIONS_N):\n",
    "    s = time.time()\n",
    "    df_big.loc[(df_big['COL_0'] > 20)  &  (df_big['COL_10'] < 40) & (df_big['COL_15'] > 19) & (df_big['COL_30'] < 5), ['COL_11', 'COL_38']]\n",
    "    e = time.time()\n",
    "    samples.append((e-s))\n",
    "print(f'pandas.loc filtering {\"{:.6f}\".format(np.mean(samples))} seconds (avg over {ITERATIONS_N} iterations)')"
   ],
   "metadata": {
    "collapsed": false,
    "ExecuteTime": {
     "end_time": "2024-10-12T14:16:56.202096300Z",
     "start_time": "2024-10-12T14:16:55.897281500Z"
    }
   },
   "id": "f78eed4ce55476d3"
  },
  {
   "cell_type": "markdown",
   "source": [
    "### Testing ArcticDB querying time"
   ],
   "metadata": {
    "collapsed": false
   },
   "id": "610cbdf386edcfd2"
  },
  {
   "cell_type": "code",
   "execution_count": 12,
   "outputs": [
    {
     "name": "stdout",
     "output_type": "stream",
     "text": [
      "ArcticDB filtering 0.071078 seconds (over 3 iterations) (including building query : 0.071742)\n"
     ]
    }
   ],
   "source": [
    "samples = []\n",
    "for _itr in range(ITERATIONS_N):\n",
    "    s = time.time()\n",
    "    q = adb.QueryBuilder()\n",
    "    q = q[(q[\"COL_0\"] > 0) & (q[\"COL_10\"] < 40) & (q[\"COL_15\"] > 19) & (q[\"COL_30\"] <5)]\n",
    "    e = time.time()\n",
    "    samples.append(e-s)\n",
    "query_build_avg_t = np.mean(samples)\n",
    "\n",
    "samples = []\n",
    "for _itr in range(ITERATIONS_N):\n",
    "    s = time.time()\n",
    "    _temp = library.read('df_big', columns= ['COL_11', 'COL_38'], query_builder=q).data\n",
    "    e = time.time()\n",
    "    samples.append(e-s)\n",
    "query_avg_t = np.mean(samples)\n",
    "print(f'ArcticDB filtering {\"{:.6f}\".format(query_avg_t)} seconds (avg over {ITERATIONS_N} iterations) '\n",
    "      f'(including building query : {\"{:.6f}\".format(query_avg_t + query_build_avg_t)})')"
   ],
   "metadata": {
    "collapsed": false,
    "ExecuteTime": {
     "end_time": "2024-10-12T14:16:56.435433200Z",
     "start_time": "2024-10-12T14:16:56.421306300Z"
    }
   },
   "id": "52ca1c90493f0a31"
  },
  {
   "cell_type": "markdown",
   "source": [
    "### Testing time to read from disk"
   ],
   "metadata": {
    "collapsed": false
   },
   "id": "5fcc4495f478064"
  },
  {
   "cell_type": "code",
   "execution_count": 13,
   "outputs": [
    {
     "name": "stdout",
     "output_type": "stream",
     "text": [
      "pd.read_csv( )  time 16.067021 seconds (over 3 iterations)\n"
     ]
    }
   ],
   "source": [
    "samples = []\n",
    "for _itr in range(ITERATIONS_N):\n",
    "    s = time.time()\n",
    "    df_big_in = pd.read_csv(\"df_big.csv\", index_col=0, parse_dates=True)\n",
    "    e = time.time()\n",
    "    samples.append(e-s)\n",
    "print(f'pd.read_csv( )  time {\"{:.6f}\".format(np.mean(samples))} seconds (avg over {ITERATIONS_N} iterations)')"
   ],
   "metadata": {
    "collapsed": false,
    "ExecuteTime": {
     "end_time": "2024-10-12T14:17:44.676047100Z",
     "start_time": "2024-10-12T14:16:56.436432100Z"
    }
   },
   "id": "23ab9455c03ac16f"
  },
  {
   "cell_type": "code",
   "execution_count": 14,
   "outputs": [
    {
     "name": "stdout",
     "output_type": "stream",
     "text": [
      "library.read()  time 0.324823 seconds (over 3 iterations)\n"
     ]
    }
   ],
   "source": [
    "samples = []\n",
    "for _itr in range(ITERATIONS_N):\n",
    "    s = time.time()\n",
    "    _temp = library.read(\"df_big\")\n",
    "    e = time.time()\n",
    "    samples.append(e-s)\n",
    "print(f'library.read()  time {\"{:.6f}\".format(np.mean(samples))} seconds (avg over {ITERATIONS_N} iterations)')"
   ],
   "metadata": {
    "collapsed": false,
    "ExecuteTime": {
     "end_time": "2024-10-12T14:17:45.684004600Z",
     "start_time": "2024-10-12T14:17:45.666542600Z"
    }
   },
   "id": "ccf73fd6944d2867"
  },
  {
   "cell_type": "markdown",
   "source": [
    "#### Some cleaning up"
   ],
   "metadata": {
    "collapsed": false
   },
   "id": "c6861adaabb8075e"
  },
  {
   "cell_type": "code",
   "execution_count": 15,
   "outputs": [],
   "source": [
    "if os.path.exists(\"df_big.csv\"):\n",
    "    os.remove(\"df_big.csv\")\n",
    "if ac.has_library('intro'):\n",
    "    ac.delete_library('intro')"
   ],
   "metadata": {
    "collapsed": false,
    "ExecuteTime": {
     "end_time": "2024-10-12T14:17:45.854728300Z",
     "start_time": "2024-10-12T14:17:45.689906300Z"
    }
   },
   "id": "f4069fc5fe341c6f"
  }
 ],
 "metadata": {
  "kernelspec": {
   "display_name": "Python 3",
   "language": "python",
   "name": "python3"
  },
  "language_info": {
   "codemirror_mode": {
    "name": "ipython",
    "version": 2
   },
   "file_extension": ".py",
   "mimetype": "text/x-python",
   "name": "python",
   "nbconvert_exporter": "python",
   "pygments_lexer": "ipython2",
   "version": "2.7.6"
  }
 },
 "nbformat": 4,
 "nbformat_minor": 5
}

{
 "cells": [
  {
   "cell_type": "markdown",
   "source": [
    "A short sample notebook to compare the performance of pandas (1.3.4 was used) vs ArcticDB (4.5.0) in reading from /writing to local disk/query operations \n",
    "\n",
    "Sources:\n",
    "https://docs.arcticdb.io/4.5.0/\n",
    "https://medium.com/arcticdb/why-you-should-use-arcticdb-instead-of-csv-to-save-your-pandas-dataframes-ac4d06e55724"
   ],
   "metadata": {
    "collapsed": false
   },
   "id": "7c2bec49337320b"
  },
  {
   "cell_type": "code",
   "execution_count": 1,
   "outputs": [],
   "source": [
    "import os\n",
    "import datetime as dt\n",
    "import time\n",
    "\n",
    "import numpy as np\n",
    "import pandas as pd\n",
    "\n",
    "import arcticdb as adb"
   ],
   "metadata": {
    "collapsed": false,
    "ExecuteTime": {
     "end_time": "2024-10-12T14:01:38.472185600Z",
     "start_time": "2024-10-12T14:01:37.694521300Z"
    }
   },
   "id": "14d38fa69406f07c"
  },
  {
   "cell_type": "code",
   "execution_count": 2,
   "outputs": [],
   "source": [
    "# this will set up the storage using the local file system\n",
    "uri = \"lmdb://C:dev/tmp/arcticdb_intro\"\n",
    "ac = adb.Arctic(uri)"
   ],
   "metadata": {
    "collapsed": false,
    "ExecuteTime": {
     "end_time": "2024-10-12T14:01:38.488088300Z",
     "start_time": "2024-10-12T14:01:38.473182700Z"
    }
   },
   "id": "a0efeb99ca293e4b"
  },
  {
   "cell_type": "code",
   "execution_count": 3,
   "outputs": [],
   "source": [
    "if ac.has_library('intro'):\n",
    "    ac.delete_library('intro')"
   ],
   "metadata": {
    "collapsed": false,
    "ExecuteTime": {
     "end_time": "2024-10-12T14:01:38.548593600Z",
     "start_time": "2024-10-12T14:01:38.537371500Z"
    }
   },
   "id": "97d2af30153849d6"
  },
  {
   "cell_type": "code",
   "execution_count": 4,
   "outputs": [
    {
     "data": {
      "text/plain": "['intro']"
     },
     "execution_count": 4,
     "metadata": {},
     "output_type": "execute_result"
    }
   ],
   "source": [
    "ac.create_library('intro')  # static schema - see note below\n",
    "ac.list_libraries()"
   ],
   "metadata": {
    "collapsed": false,
    "ExecuteTime": {
     "end_time": "2024-10-12T14:01:39.041750600Z",
     "start_time": "2024-10-12T14:01:39.000939100Z"
    }
   },
   "id": "7a6c687577cca8a2"
  },
  {
   "cell_type": "code",
   "execution_count": 5,
   "outputs": [],
   "source": [
    "library = ac['intro']"
   ],
   "metadata": {
    "collapsed": false,
    "ExecuteTime": {
     "end_time": "2024-10-12T14:01:39.288568900Z",
     "start_time": "2024-10-12T14:01:39.278192900Z"
    }
   },
   "id": "6201071425fe7a4"
  },
  {
   "cell_type": "code",
   "execution_count": 6,
   "outputs": [],
   "source": [
    "n_row = int(5e6)\n",
    "cols = ['COL_%d' % i for i in range(50)]\n",
    "df_big = pd.DataFrame(np.random.randint(0, 50, size=(n_row, 50)), columns=cols)\n",
    "df_big.index = pd.date_range(dt.datetime(1970, 1, 1, 5), periods=n_row, freq=\"S\")"
   ],
   "metadata": {
    "collapsed": false,
    "ExecuteTime": {
     "end_time": "2024-10-12T14:01:41.393879700Z",
     "start_time": "2024-10-12T14:01:39.628038Z"
    }
   },
   "id": "9f4023135ca73e01"
  },
  {
   "cell_type": "code",
   "execution_count": 7,
   "outputs": [
    {
     "data": {
      "text/plain": "                     COL_0  COL_1  COL_2  COL_3  COL_4  COL_5  COL_6  COL_7  \\\n1970-02-28 01:53:16     26     27     15     38     47     25     18     43   \n1970-02-28 01:53:17     13      4     33     39      9     36     33     37   \n1970-02-28 01:53:18     31     46      6     39     13     16      9     25   \n1970-02-28 01:53:19     19     22     21     16     32     25     44     48   \n\n                     COL_8  COL_9  ...  COL_40  COL_41  COL_42  COL_43  \\\n1970-02-28 01:53:16     24     41  ...      22      24      18      28   \n1970-02-28 01:53:17     30     41  ...       0      49      11       9   \n1970-02-28 01:53:18      5     46  ...      31      34       4      41   \n1970-02-28 01:53:19     12     40  ...      43      13      24       0   \n\n                     COL_44  COL_45  COL_46  COL_47  COL_48  COL_49  \n1970-02-28 01:53:16      20      36       2      43      41      18  \n1970-02-28 01:53:17      16      30       2      10       4       4  \n1970-02-28 01:53:18      22       2      31      41      49      37  \n1970-02-28 01:53:19      41      15      43      47      33      10  \n\n[4 rows x 50 columns]",
      "text/html": "<div>\n<style scoped>\n    .dataframe tbody tr th:only-of-type {\n        vertical-align: middle;\n    }\n\n    .dataframe tbody tr th {\n        vertical-align: top;\n    }\n\n    .dataframe thead th {\n        text-align: right;\n    }\n</style>\n<table border=\"1\" class=\"dataframe\">\n  <thead>\n    <tr style=\"text-align: right;\">\n      <th></th>\n      <th>COL_0</th>\n      <th>COL_1</th>\n      <th>COL_2</th>\n      <th>COL_3</th>\n      <th>COL_4</th>\n      <th>COL_5</th>\n      <th>COL_6</th>\n      <th>COL_7</th>\n      <th>COL_8</th>\n      <th>COL_9</th>\n      <th>...</th>\n      <th>COL_40</th>\n      <th>COL_41</th>\n      <th>COL_42</th>\n      <th>COL_43</th>\n      <th>COL_44</th>\n      <th>COL_45</th>\n      <th>COL_46</th>\n      <th>COL_47</th>\n      <th>COL_48</th>\n      <th>COL_49</th>\n    </tr>\n  </thead>\n  <tbody>\n    <tr>\n      <th>1970-02-28 01:53:16</th>\n      <td>26</td>\n      <td>27</td>\n      <td>15</td>\n      <td>38</td>\n      <td>47</td>\n      <td>25</td>\n      <td>18</td>\n      <td>43</td>\n      <td>24</td>\n      <td>41</td>\n      <td>...</td>\n      <td>22</td>\n      <td>24</td>\n      <td>18</td>\n      <td>28</td>\n      <td>20</td>\n      <td>36</td>\n      <td>2</td>\n      <td>43</td>\n      <td>41</td>\n      <td>18</td>\n    </tr>\n    <tr>\n      <th>1970-02-28 01:53:17</th>\n      <td>13</td>\n      <td>4</td>\n      <td>33</td>\n      <td>39</td>\n      <td>9</td>\n      <td>36</td>\n      <td>33</td>\n      <td>37</td>\n      <td>30</td>\n      <td>41</td>\n      <td>...</td>\n      <td>0</td>\n      <td>49</td>\n      <td>11</td>\n      <td>9</td>\n      <td>16</td>\n      <td>30</td>\n      <td>2</td>\n      <td>10</td>\n      <td>4</td>\n      <td>4</td>\n    </tr>\n    <tr>\n      <th>1970-02-28 01:53:18</th>\n      <td>31</td>\n      <td>46</td>\n      <td>6</td>\n      <td>39</td>\n      <td>13</td>\n      <td>16</td>\n      <td>9</td>\n      <td>25</td>\n      <td>5</td>\n      <td>46</td>\n      <td>...</td>\n      <td>31</td>\n      <td>34</td>\n      <td>4</td>\n      <td>41</td>\n      <td>22</td>\n      <td>2</td>\n      <td>31</td>\n      <td>41</td>\n      <td>49</td>\n      <td>37</td>\n    </tr>\n    <tr>\n      <th>1970-02-28 01:53:19</th>\n      <td>19</td>\n      <td>22</td>\n      <td>21</td>\n      <td>16</td>\n      <td>32</td>\n      <td>25</td>\n      <td>44</td>\n      <td>48</td>\n      <td>12</td>\n      <td>40</td>\n      <td>...</td>\n      <td>43</td>\n      <td>13</td>\n      <td>24</td>\n      <td>0</td>\n      <td>41</td>\n      <td>15</td>\n      <td>43</td>\n      <td>47</td>\n      <td>33</td>\n      <td>10</td>\n    </tr>\n  </tbody>\n</table>\n<p>4 rows × 50 columns</p>\n</div>"
     },
     "execution_count": 7,
     "metadata": {},
     "output_type": "execute_result"
    }
   ],
   "source": [
    "df_big.tail(4)"
   ],
   "metadata": {
    "collapsed": false,
    "ExecuteTime": {
     "end_time": "2024-10-12T14:01:41.453621200Z",
     "start_time": "2024-10-12T14:01:41.398866700Z"
    }
   },
   "id": "9acd0e14eaae3bad"
  },
  {
   "cell_type": "code",
   "execution_count": 15,
   "outputs": [
    {
     "data": {
      "text/plain": "(5000000, 50)"
     },
     "execution_count": 15,
     "metadata": {},
     "output_type": "execute_result"
    }
   ],
   "source": [
    "df_big.shape"
   ],
   "metadata": {
    "collapsed": false,
    "ExecuteTime": {
     "end_time": "2024-10-12T14:02:42.057174500Z",
     "start_time": "2024-10-12T14:02:42.038353100Z"
    }
   },
   "id": "c1e1206cb6eef60e"
  },
  {
   "cell_type": "markdown",
   "source": [
    "### Testing output time to C: drive"
   ],
   "metadata": {
    "collapsed": false
   },
   "id": "b2c9f164db61b57c"
  },
  {
   "cell_type": "code",
   "execution_count": 8,
   "outputs": [
    {
     "name": "stdout",
     "output_type": "stream",
     "text": [
      "pd.to_csv( )  time  32.449820 seconds\n"
     ]
    }
   ],
   "source": [
    "s = time.time()\n",
    "df_big.to_csv(\"df_big.csv\")\n",
    "e = time.time()\n",
    "print(f'pd.to_csv( )  time  {\"{:.6f}\".format((e-s))} seconds')"
   ],
   "metadata": {
    "collapsed": false,
    "ExecuteTime": {
     "end_time": "2024-10-12T14:02:13.893667Z",
     "start_time": "2024-10-12T14:01:41.427497700Z"
    }
   },
   "id": "2d07054774794d3b"
  },
  {
   "cell_type": "code",
   "execution_count": 9,
   "outputs": [
    {
     "name": "stdout",
     "output_type": "stream",
     "text": [
      "Arctic DB write time 1.124194 seconds\n"
     ]
    }
   ],
   "source": [
    "if library.has_symbol('df_big'):\n",
    "    library.delete('df_big')\n",
    "s = time.time()\n",
    "library.write('df_big', df_big)\n",
    "e = time.time()\n",
    "print(f'Arctic DB write time {\"{:.6f}\".format((e-s))} seconds')"
   ],
   "metadata": {
    "collapsed": false,
    "ExecuteTime": {
     "end_time": "2024-10-12T14:02:15.033263800Z",
     "start_time": "2024-10-12T14:02:13.903630500Z"
    }
   },
   "id": "50fb9d2a4e1023a1"
  },
  {
   "cell_type": "markdown",
   "source": [
    "### Pandas .loc querying time"
   ],
   "metadata": {
    "collapsed": false
   },
   "id": "b4ddecd7cd32ccdc"
  },
  {
   "cell_type": "code",
   "execution_count": 10,
   "outputs": [
    {
     "name": "stdout",
     "output_type": "stream",
     "text": [
      "pandas.loc filtering 0.101297 seconds\n"
     ]
    }
   ],
   "source": [
    "s = time.time()\n",
    "df_big.loc[(df_big['COL_0'] > 20)  &  (df_big['COL_10'] < 40) & (df_big['COL_15'] > 19) & (df_big['COL_30'] < 5), ['COL_11', 'COL_38']]\n",
    "e = time.time()\n",
    "print(f'pandas.loc filtering {\"{:.6f}\".format(e-s)} seconds')"
   ],
   "metadata": {
    "collapsed": false,
    "ExecuteTime": {
     "end_time": "2024-10-12T14:02:15.140606900Z",
     "start_time": "2024-10-12T14:02:15.023294100Z"
    }
   },
   "id": "f78eed4ce55476d3"
  },
  {
   "cell_type": "markdown",
   "source": [
    "### Testing ArcticDB querying time"
   ],
   "metadata": {
    "collapsed": false
   },
   "id": "610cbdf386edcfd2"
  },
  {
   "cell_type": "code",
   "execution_count": 11,
   "outputs": [
    {
     "name": "stdout",
     "output_type": "stream",
     "text": [
      "ArcticDB filtering 0.068600 seconds (including building query : 0.069597)\n"
     ]
    }
   ],
   "source": [
    "s = time.time()\n",
    "q = adb.QueryBuilder()\n",
    "q = q[(q[\"COL_0\"] > 0) & (q[\"COL_10\"] < 40) & (q[\"COL_15\"] > 19) & (q[\"COL_30\"] <5)]\n",
    "e = time.time()\n",
    "building_query_time = e-s\n",
    "\n",
    "s = time.time()\n",
    "_temp = library.read('df_big', columns= ['COL_11', 'COL_38'], query_builder=q).data\n",
    "e = time.time()\n",
    "adb_filter_time = (e-s)\n",
    "print(f'ArcticDB filtering {\"{:.6f}\".format(e-s)} seconds (including building query : {\"{:.6f}\".format(building_query_time + adb_filter_time)})')"
   ],
   "metadata": {
    "collapsed": false,
    "ExecuteTime": {
     "end_time": "2024-10-12T14:02:15.225229800Z",
     "start_time": "2024-10-12T14:02:15.207343100Z"
    }
   },
   "id": "52ca1c90493f0a31"
  },
  {
   "cell_type": "markdown",
   "source": [
    "### Testing time to read from disk"
   ],
   "metadata": {
    "collapsed": false
   },
   "id": "5fcc4495f478064"
  },
  {
   "cell_type": "code",
   "execution_count": 12,
   "outputs": [
    {
     "name": "stdout",
     "output_type": "stream",
     "text": [
      "pd.read_csv( )  time 15.256523 seconds\n"
     ]
    }
   ],
   "source": [
    "s = time.time()\n",
    "df_big_in = pd.read_csv(\"df_big.csv\", index_col=0, parse_dates=True)\n",
    "e = time.time()\n",
    "print(f'pd.read_csv( )  time {\"{:.6f}\".format(e-s)} seconds')"
   ],
   "metadata": {
    "collapsed": false,
    "ExecuteTime": {
     "end_time": "2024-10-12T14:02:30.492778500Z",
     "start_time": "2024-10-12T14:02:15.227079Z"
    }
   },
   "id": "23ab9455c03ac16f"
  },
  {
   "cell_type": "code",
   "execution_count": 13,
   "outputs": [
    {
     "name": "stdout",
     "output_type": "stream",
     "text": [
      "library.read()  time 0.139361 seconds\n"
     ]
    }
   ],
   "source": [
    "s = time.time()\n",
    "_temp = library.read(\"df_big\")\n",
    "e = time.time()\n",
    "print(f'library.read()  time {\"{:.6f}\".format(e-s)} seconds')"
   ],
   "metadata": {
    "collapsed": false,
    "ExecuteTime": {
     "end_time": "2024-10-12T14:02:30.647930900Z",
     "start_time": "2024-10-12T14:02:30.631141400Z"
    }
   },
   "id": "ccf73fd6944d2867"
  },
  {
   "cell_type": "markdown",
   "source": [
    "#### Some cleaning up"
   ],
   "metadata": {
    "collapsed": false
   },
   "id": "c6861adaabb8075e"
  },
  {
   "cell_type": "code",
   "execution_count": 14,
   "outputs": [],
   "source": [
    "if os.path.exists(\"df_big.csv\"):\n",
    "    os.remove(\"df_big.csv\")\n",
    "if ac.has_library('intro'):\n",
    "    ac.delete_library('intro')"
   ],
   "metadata": {
    "collapsed": false,
    "ExecuteTime": {
     "end_time": "2024-10-12T14:02:30.839782700Z",
     "start_time": "2024-10-12T14:02:30.649901200Z"
    }
   },
   "id": "f4069fc5fe341c6f"
  }
 ],
 "metadata": {
  "kernelspec": {
   "display_name": "Python 3",
   "language": "python",
   "name": "python3"
  },
  "language_info": {
   "codemirror_mode": {
    "name": "ipython",
    "version": 2
   },
   "file_extension": ".py",
   "mimetype": "text/x-python",
   "name": "python",
   "nbconvert_exporter": "python",
   "pygments_lexer": "ipython2",
   "version": "2.7.6"
  }
 },
 "nbformat": 4,
 "nbformat_minor": 5
}
